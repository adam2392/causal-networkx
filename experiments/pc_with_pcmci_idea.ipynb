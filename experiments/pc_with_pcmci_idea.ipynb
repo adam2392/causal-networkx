{
 "cells": [
  {
   "cell_type": "markdown",
   "id": "f464cf44-2009-4aa9-a431-61ec1186a4ee",
   "metadata": {},
   "source": [
    "# Causal Discovery Experiments of PC vs PC-with-sorting\n",
    "\n",
    "In the PCMCI paper, Runge et al. proposes the improvement of a PC-based algorithm for time-series, which improves the skeleton discovery stage to estimate a good superset of parents. This superset of parents is then used in a second stage of the algorithm, known as the Momentary Conditional Independence (MCI) condition."
   ]
  },
  {
   "cell_type": "code",
   "execution_count": 2,
   "id": "8d203fc2-925b-430c-808e-f488d859c674",
   "metadata": {},
   "outputs": [],
   "source": [
    "import os\n",
    "from pathlib import Path\n",
    "\n",
    "import numpy as np\n",
    "\n",
    "import causal_networkx"
   ]
  },
  {
   "cell_type": "code",
   "execution_count": null,
   "id": "f4dd8d03-8ccc-47bf-ab0c-46673a0c8c75",
   "metadata": {},
   "outputs": [],
   "source": []
  }
 ],
 "metadata": {
  "kernelspec": {
   "display_name": "causalm1",
   "language": "python",
   "name": "causalm1"
  },
  "language_info": {
   "codemirror_mode": {
    "name": "ipython",
    "version": 3
   },
   "file_extension": ".py",
   "mimetype": "text/x-python",
   "name": "python",
   "nbconvert_exporter": "python",
   "pygments_lexer": "ipython3",
   "version": "3.8.13"
  }
 },
 "nbformat": 4,
 "nbformat_minor": 5
}
