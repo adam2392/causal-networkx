{
 "cells": [
  {
   "cell_type": "markdown",
   "id": "f464cf44-2009-4aa9-a431-61ec1186a4ee",
   "metadata": {},
   "source": [
    "# Causal Discovery Experiments of PC vs PC-with-sorting\n",
    "\n",
    "In the PCMCI paper, Runge et al. proposes the improvement of a PC-based algorithm for time-series, which improves the skeleton discovery stage to estimate a good superset of parents. This superset of parents is then used in a second stage of the algorithm, known as the Momentary Conditional Independence (MCI) condition."
   ]
  },
  {
   "cell_type": "code",
   "execution_count": 1,
   "id": "eea34e99-f276-4aaf-96ed-265c954a5ea0",
   "metadata": {},
   "outputs": [],
   "source": [
    "%load_ext lab_black"
   ]
  },
  {
   "cell_type": "code",
   "execution_count": 2,
   "id": "5879acb6-c5f5-44f3-b9c2-14d0c58fb560",
   "metadata": {},
   "outputs": [],
   "source": [
    "%load_ext autoreload\n",
    "%autoreload 2"
   ]
  },
  {
   "cell_type": "code",
   "execution_count": 4,
   "id": "8d203fc2-925b-430c-808e-f488d859c674",
   "metadata": {},
   "outputs": [
    {
     "ename": "NameError",
     "evalue": "name 'Any' is not defined",
     "output_type": "error",
     "traceback": [
      "\u001b[0;31m---------------------------------------------------------------------------\u001b[0m",
      "\u001b[0;31mNameError\u001b[0m                                 Traceback (most recent call last)",
      "Input \u001b[0;32mIn [4]\u001b[0m, in \u001b[0;36m<cell line: 11>\u001b[0;34m()\u001b[0m\n\u001b[1;32m      9\u001b[0m \u001b[38;5;28;01mimport\u001b[39;00m \u001b[38;5;21;01mcausal_networkx\u001b[39;00m\n\u001b[1;32m     10\u001b[0m \u001b[38;5;28;01mfrom\u001b[39;00m \u001b[38;5;21;01mcausal_networkx\u001b[39;00m\u001b[38;5;21;01m.\u001b[39;00m\u001b[38;5;21;01mci\u001b[39;00m \u001b[38;5;28;01mimport\u001b[39;00m g_square_discrete, fisherz, g_square_binary\n\u001b[0;32m---> 11\u001b[0m \u001b[38;5;28;01mfrom\u001b[39;00m \u001b[38;5;21;01mcausal_networkx\u001b[39;00m\u001b[38;5;21;01m.\u001b[39;00m\u001b[38;5;21;01mdiscovery\u001b[39;00m \u001b[38;5;28;01mimport\u001b[39;00m PC\n",
      "File \u001b[0;32m~/Documents/causal-networkx/causal_networkx/discovery/__init__.py:3\u001b[0m, in \u001b[0;36m<module>\u001b[0;34m\u001b[0m\n\u001b[1;32m      1\u001b[0m \u001b[38;5;28;01mfrom\u001b[39;00m \u001b[38;5;21;01m.\u001b[39;00m\u001b[38;5;21;01mclasses\u001b[39;00m \u001b[38;5;28;01mimport\u001b[39;00m ConstraintDiscovery\n\u001b[1;32m      2\u001b[0m \u001b[38;5;28;01mfrom\u001b[39;00m \u001b[38;5;21;01m.\u001b[39;00m\u001b[38;5;21;01mfcialg\u001b[39;00m \u001b[38;5;28;01mimport\u001b[39;00m FCI\n\u001b[0;32m----> 3\u001b[0m \u001b[38;5;28;01mfrom\u001b[39;00m \u001b[38;5;21;01m.\u001b[39;00m\u001b[38;5;21;01mpcalg\u001b[39;00m \u001b[38;5;28;01mimport\u001b[39;00m PC\n\u001b[1;32m      4\u001b[0m \u001b[38;5;28;01mfrom\u001b[39;00m \u001b[38;5;21;01m.\u001b[39;00m\u001b[38;5;21;01mskeleton\u001b[39;00m \u001b[38;5;28;01mimport\u001b[39;00m (\n\u001b[1;32m      5\u001b[0m     learn_skeleton_graph_with_neighbors,\n\u001b[1;32m      6\u001b[0m     learn_skeleton_graph_with_order,\n\u001b[1;32m      7\u001b[0m     learn_skeleton_graph_with_pdsep,\n\u001b[1;32m      8\u001b[0m )\n",
      "File \u001b[0;32m~/Documents/causal-networkx/causal_networkx/discovery/pcalg.py:285\u001b[0m, in \u001b[0;36m<module>\u001b[0;34m\u001b[0m\n\u001b[1;32m    281\u001b[0m                     \u001b[38;5;28;01mbreak\u001b[39;00m\n\u001b[1;32m    282\u001b[0m         \u001b[38;5;28;01mreturn\u001b[39;00m added_arrows\n\u001b[0;32m--> 285\u001b[0m \u001b[38;5;28;01mclass\u001b[39;00m \u001b[38;5;21;01mRobustPC\u001b[39;00m(PC):\n\u001b[1;32m    286\u001b[0m     \u001b[38;5;28;01mdef\u001b[39;00m \u001b[38;5;21m__init__\u001b[39m(\n\u001b[1;32m    287\u001b[0m         \u001b[38;5;28mself\u001b[39m,\n\u001b[1;32m    288\u001b[0m         ci_estimator: Callable,\n\u001b[0;32m   (...)\u001b[0m\n\u001b[1;32m    300\u001b[0m         \u001b[38;5;241m*\u001b[39m\u001b[38;5;241m*\u001b[39mci_estimator_kwargs,\n\u001b[1;32m    301\u001b[0m     ):\n\u001b[1;32m    302\u001b[0m         \u001b[38;5;28msuper\u001b[39m()\u001b[38;5;241m.\u001b[39m\u001b[38;5;21m__init__\u001b[39m(\n\u001b[1;32m    303\u001b[0m             ci_estimator,\n\u001b[1;32m    304\u001b[0m             alpha,\n\u001b[0;32m   (...)\u001b[0m\n\u001b[1;32m    312\u001b[0m             \u001b[38;5;241m*\u001b[39m\u001b[38;5;241m*\u001b[39mci_estimator_kwargs,\n\u001b[1;32m    313\u001b[0m         )\n",
      "File \u001b[0;32m~/Documents/causal-networkx/causal_networkx/discovery/pcalg.py:318\u001b[0m, in \u001b[0;36mRobustPC\u001b[0;34m()\u001b[0m\n\u001b[1;32m    315\u001b[0m     \u001b[38;5;28mself\u001b[39m\u001b[38;5;241m.\u001b[39mmax_conds_y \u001b[38;5;241m=\u001b[39m max_conds_y\n\u001b[1;32m    316\u001b[0m     \u001b[38;5;28mself\u001b[39m\u001b[38;5;241m.\u001b[39msize_inclusive \u001b[38;5;241m=\u001b[39m size_inclusive\n\u001b[0;32m--> 318\u001b[0m \u001b[38;5;28;01mdef\u001b[39;00m \u001b[38;5;21mlearn_skeleton\u001b[39m(\u001b[38;5;28mself\u001b[39m, X: pd\u001b[38;5;241m.\u001b[39mDataFrame, graph: nx\u001b[38;5;241m.\u001b[39mGraph \u001b[38;5;241m=\u001b[39m \u001b[38;5;28;01mNone\u001b[39;00m, sep_set: Dict[\u001b[38;5;28mstr\u001b[39m, Dict[\u001b[38;5;28mstr\u001b[39m, Set[\u001b[43mAny\u001b[49m]]] \u001b[38;5;241m=\u001b[39m \u001b[38;5;28;01mNone\u001b[39;00m, fixed_edges: Set \u001b[38;5;241m=\u001b[39m \u001b[38;5;241m.\u001b[39m\u001b[38;5;241m.\u001b[39m\u001b[38;5;241m.\u001b[39m) \u001b[38;5;241m-\u001b[39m\u001b[38;5;241m>\u001b[39m Tuple[nx\u001b[38;5;241m.\u001b[39mGraph, Dict[\u001b[38;5;28mstr\u001b[39m, Dict[\u001b[38;5;28mstr\u001b[39m, Set[Any]]]]:\n\u001b[1;32m    319\u001b[0m     \u001b[38;5;28msuper\u001b[39m()\u001b[38;5;241m.\u001b[39mlearn_skeleton(X, graph, sep_set, fixed_edges)\n",
      "\u001b[0;31mNameError\u001b[0m: name 'Any' is not defined"
     ]
    }
   ],
   "source": [
    "import os\n",
    "from pathlib import Path\n",
    "from pprint import pprint\n",
    "\n",
    "import numpy as np\n",
    "import bnlearn as bn\n",
    "import networkx as nx\n",
    "\n",
    "import causal_networkx\n",
    "from causal_networkx.ci import g_square_discrete, fisherz, g_square_binary\n",
    "from causal_networkx.discovery import PC\n"
   ]
  },
  {
   "cell_type": "markdown",
   "id": "85305ef5-fd30-431e-9c8a-339aca371af1",
   "metadata": {},
   "source": [
    "# Load sample graphs using bnlearn\n",
    "\n",
    "bnlearn is a package providing sample graphs. It was originally written in R and the Python interface now provides much of the same functionality.\n",
    "\n",
    "## Discrete data\n",
    "\n",
    "We'll start out first analyzing discrete data with relatively simple structure.\n",
    "\n",
    "For the Asia graph: https://www.bnlearn.com/documentation/man/asia.html Here, we're interested in determining the causes of \"shortness-of-breath\" (i.e. dyspnoea). Bnlearn provides the ground-truth DAG and also a dataset."
   ]
  },
  {
   "cell_type": "code",
   "execution_count": 6,
   "id": "f4dd8d03-8ccc-47bf-ab0c-46673a0c8c75",
   "metadata": {},
   "outputs": [
    {
     "name": "stdout",
     "output_type": "stream",
     "text": [
      "[bnlearn] >Extracting files..\n"
     ]
    },
    {
     "data": {
      "application/vnd.jupyter.widget-view+json": {
       "model_id": "05209f891f014e37932c6f138c9b91d4",
       "version_major": 2,
       "version_minor": 0
      },
      "text/plain": [
       "  0%|          | 0/8 [00:00<?, ?it/s]"
      ]
     },
     "metadata": {},
     "output_type": "display_data"
    }
   ],
   "source": [
    "# Load data\n",
    "df = bn.import_example(data=\"asia\")"
   ]
  },
  {
   "cell_type": "code",
   "execution_count": null,
   "id": "80b9914c-56aa-4f79-8653-22193fb3f94c",
   "metadata": {},
   "outputs": [],
   "source": [
    "# load the graph\n",
    "DAG = bn.import_DAG(\"asia\")\n",
    "\n",
    "# plot ground truth\n",
    "G = bn.plot(DAG)\n",
    "print(\"Plotting the ground-truth DAG\")"
   ]
  },
  {
   "cell_type": "code",
   "execution_count": null,
   "id": "5d22853b-40f0-4f21-b5f5-a31283a7cc62",
   "metadata": {},
   "outputs": [],
   "source": [
    "display(df.head())\n",
    "print(df.shape)"
   ]
  },
  {
   "cell_type": "code",
   "execution_count": null,
   "id": "df16f92e-9eee-45ad-861f-79119c18cb7e",
   "metadata": {},
   "outputs": [],
   "source": [
    "for col in df.columns:\n",
    "    print(df[col].unique())"
   ]
  },
  {
   "cell_type": "markdown",
   "id": "54e88d2e-0307-461e-a880-04e5fa07a54e",
   "metadata": {},
   "source": [
    "# Apply the normal PC Algorithm"
   ]
  },
  {
   "cell_type": "code",
   "execution_count": null,
   "id": "c9820075-8275-409d-b602-83a7d0a36595",
   "metadata": {},
   "outputs": [],
   "source": [
    "ci_estimator = g_square_binary\n",
    "# ci_estimator = fisherz\n",
    "alpha = 0.05\n",
    "\n",
    "pcalg = PC(\n",
    "    ci_estimator=ci_estimator,\n",
    "    alpha=alpha,\n",
    "    apply_orientations=False,\n",
    ")"
   ]
  },
  {
   "cell_type": "code",
   "execution_count": null,
   "id": "8628252f-2853-4643-96d5-0b7d8d168770",
   "metadata": {},
   "outputs": [],
   "source": [
    "pcalg.fit(df)\n"
   ]
  },
  {
   "cell_type": "code",
   "execution_count": null,
   "id": "70a54272-7c83-4b6f-b96c-71373f4db8ca",
   "metadata": {},
   "outputs": [],
   "source": [
    "graph = pcalg.graph_\n",
    "sep_set = pcalg.separating_sets_\n",
    "\n",
    "print(graph)\n",
    "print(graph.nodes)\n",
    "nx.draw(graph, with_labels=True)"
   ]
  },
  {
   "cell_type": "code",
   "execution_count": null,
   "id": "f659b749-cbae-45d5-92f8-0c265edf3bf5",
   "metadata": {},
   "outputs": [],
   "source": [
    "pprint(sep_set)"
   ]
  }
 ],
 "metadata": {
  "kernelspec": {
   "display_name": "causalx64",
   "language": "python",
   "name": "causalx64"
  },
  "language_info": {
   "codemirror_mode": {
    "name": "ipython",
    "version": 3
   },
   "file_extension": ".py",
   "mimetype": "text/x-python",
   "name": "python",
   "nbconvert_exporter": "python",
   "pygments_lexer": "ipython3",
   "version": "3.8.12"
  }
 },
 "nbformat": 4,
 "nbformat_minor": 5
}
