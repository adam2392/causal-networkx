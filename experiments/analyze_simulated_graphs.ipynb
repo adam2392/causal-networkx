{
 "cells": [
  {
   "cell_type": "markdown",
   "id": "f5210a8d-b7d6-4350-ac66-0db2f82f3625",
   "metadata": {},
   "source": [
    "# Random Graph Experimentation - Comparing RobustPC variants vs PC algorithm\n",
    "\n",
    "We hypothesize that RobustPC in the context of **faithful** and/or **m-strong-faithful** graphs will perform better than the naive PC algorithm. The baseline CPDAG we want to compare to is the one using a ParentOracle, which is uniformly consistent for all graphs.\n",
    "\n",
    "We have the following comparisons that leverage the momentary conditional independence condition (MCI), which leverages a fixed conditioning set in addition to that suggested via PC:\n",
    "\n",
    "    - definite parents: Using a parent oracle\n",
    "    - definite children: Using a children oracle\n",
    "    - definite parents + definite children: Using a parent + children oracle\n",
    "    - definite Markov blanket: Using the markov blanket oracle\n",
    "    - estimated parents: using \"some\" procedure to estimate the parents\n",
    "    - estimated parents + children: using \"some\" procedure to estimate the parents+children\n",
    "    - estimated markov blanket: estimating the markov blanket\n",
    "    \n",
    "References\n",
    "----------\n",
    "[1] https://www.jmlr.org/papers/volume9/pellet08a/pellet08a.pdf"
   ]
  },
  {
   "cell_type": "code",
   "execution_count": 1,
   "id": "c663a97c-fc60-4a34-ba83-adc958ca5b43",
   "metadata": {},
   "outputs": [],
   "source": [
    "%load_ext lab_black"
   ]
  },
  {
   "cell_type": "code",
   "execution_count": 2,
   "id": "6275564c-6748-4d68-87fe-c09811c4ca4f",
   "metadata": {},
   "outputs": [],
   "source": [
    "%load_ext autoreload\n",
    "%autoreload 2"
   ]
  },
  {
   "cell_type": "code",
   "execution_count": 4,
   "id": "87c7b746-98c5-4f5f-930e-e01a08c1f3d2",
   "metadata": {},
   "outputs": [],
   "source": [
    "import os\n",
    "from pathlib import Path\n",
    "from pprint import pprint\n",
    "import json\n",
    "\n",
    "import numpy as np\n",
    "import bnlearn as bn\n",
    "import networkx as nx\n",
    "import pandas as pd\n",
    "\n",
    "import causal_networkx\n",
    "from causal_networkx.ci import (\n",
    "    FisherZCITest,\n",
    "    GSquareCITest,\n",
    "    PartialCorrelation,\n",
    "    Oracle,\n",
    "    ParentOracle,\n",
    ")\n",
    "from causal_networkx.discovery import PC, RobustPC\n",
    "from causal_networkx.io import read_dot, load_from_networkx\n",
    "\n",
    "import matplotlib.pyplot as plt\n",
    "import seaborn as sns"
   ]
  },
  {
   "cell_type": "code",
   "execution_count": 5,
   "id": "a43eed3b-c147-4728-9496-425876dc3b48",
   "metadata": {},
   "outputs": [],
   "source": [
    "np.random.seed(12345)"
   ]
  },
  {
   "cell_type": "markdown",
   "id": "f220ea18-7fec-48b8-8cbb-cc31bd84dec0",
   "metadata": {},
   "source": [
    "# Set up to load the data\n",
    "\n",
    "The data should have been previously generated via the manm_cs package for additive noise models. We will load the data in with specific parameters."
   ]
  },
  {
   "cell_type": "code",
   "execution_count": 6,
   "id": "3985daa1-72e9-4825-bd39-c21808bba41d",
   "metadata": {},
   "outputs": [],
   "source": [
    "data_dir = Path(\"/Volumes/Extreme Pro/structure_learning_manm_sim\")"
   ]
  },
  {
   "cell_type": "code",
   "execution_count": 7,
   "id": "be054486-a239-4143-ab27-27bf42e9da73",
   "metadata": {},
   "outputs": [],
   "source": [
    "ci_est = \"parcorr\"\n",
    "ci_estimator = PartialCorrelation()"
   ]
  },
  {
   "cell_type": "code",
   "execution_count": 12,
   "id": "a00a45ac-963b-4043-b9ce-a0f2a9e0bcdd",
   "metadata": {},
   "outputs": [],
   "source": [
    "for idx in range(310, 320):\n",
    "    data_fname = data_dir / f\"graph_{idx}.csv\"\n",
    "    graph_fname = data_dir / f\"graph_{idx}.gml\"\n",
    "    meta_fname = data_dir / f\"graph_{idx}.json\"\n",
    "\n",
    "    # load the actual data\n",
    "    df = pd.read_csv(data_fname, index_col=0)\n",
    "    nx_graph = nx.read_gml(graph_fname)\n",
    "    true_graph = load_from_networkx(nx_graph)\n",
    "    with open(meta_fname, \"r\") as fin:\n",
    "        meta_dict = json.load(fin)\n",
    "\n",
    "    # sub-sample data\n",
    "    df = df.sample(2000)\n",
    "\n",
    "    # run the PC algorithm with Oracle\n",
    "    oracle = Oracle(true_graph)\n",
    "    pc_oracle = PC(ci_estimator=oracle)\n",
    "    pc_oracle.fit(df)\n",
    "\n",
    "    oracle_graph = pc_oracle.graph_\n",
    "    fname = data_dir / f\"graph_oracle_{idx}.gml\"\n",
    "    oracle_graph.save(fname, format=\"networkx-gml\")\n",
    "\n",
    "    # run the PC algorithm with partial correlation\n",
    "    pc_alg = PC(ci_estimator=ci_estimator)\n",
    "    pc_alg.fit(df)\n",
    "\n",
    "    pc_graph = pc_oracle.graph_\n",
    "    fname = data_dir / f\"graph_pcalg_{idx}.gml\"\n",
    "    pc_graph.save(fname, format=\"networkx-gml\")\n",
    "\n",
    "    # ci_estimator=ci_estimator,\n",
    "    # max_cond_set_size=max_cond_set_size,\n",
    "    # alpha=alpha,\n",
    "    # max_combinations=None,\n",
    "    # max_conds_x=max_conds_x,\n",
    "    # max_conds_y=max_conds_y,\n",
    "    # mci_alpha=mci_alpha,\n",
    "    # partial_knowledge=partial_knowledge,\n",
    "    # size_inclusive=size_inclusive,\n",
    "    # use_children=False,\n",
    "    # skip_first_stage=True,\n",
    "    # only_mci=True,\n",
    "\n",
    "    # run the RobustPC algorithm with partial correlation with ParentOracle\n",
    "    partial_knowledge = ParentOracle(true_graph)\n",
    "    robustpc = RobustPC(\n",
    "        ci_estimator=ci_estimator,\n",
    "        partial_knowledge=partial_knowledge,\n",
    "        skip_first_stage=True,\n",
    "        use_children=False,\n",
    "    )\n",
    "\n",
    "    robustpc.fit(df)\n",
    "    graph = robustpc.graph_\n",
    "    fname = data_dir / f\"graph_robust_defparents_{ci_est}_{idx}.gml\"\n",
    "    graph.save(fname, format=\"networkx-gml\")\n",
    "\n",
    "    # run the RobustPC algorithm with partial correlation with ParentChildrenOracle\n",
    "    partial_knowledge = ParentOracle(true_graph)\n",
    "    robustpc = RobustPC(\n",
    "        ci_estimator=ci_estimator,\n",
    "        partial_knowledge=partial_knowledge,\n",
    "        skip_first_stage=True,\n",
    "        use_children=True,\n",
    "    )\n",
    "    robustpc.fit(df)\n",
    "    graph = robustpc.graph_\n",
    "    fname = data_dir / f\"graph_robust_defparentschildren_{ci_est}_{idx}.gml\"\n",
    "    graph.save(fname, format=\"networkx-gml\")\n",
    "\n",
    "    # run the RobustPC algorithm with partial correlation with ParentChildrenOracle\n",
    "    # partial_knowledge = ParentOracle(true_graph)\n",
    "    # robustpc = RobustPC(ci_estimator=parcorr.test,\n",
    "    #                    partial_knowledge=partial_knowledge,\n",
    "    #                    skip_first_stage=True,)\n",
    "\n",
    "    # true_graph.draw()\n",
    "    # print(true_graph)\n",
    "    # print(meta_dict)\n",
    "    break"
   ]
  },
  {
   "cell_type": "code",
   "execution_count": 13,
   "id": "da215f50-ea4d-4430-854a-8a2764addae6",
   "metadata": {},
   "outputs": [
    {
     "name": "stdout",
     "output_type": "stream",
     "text": [
      "(2000, 8)\n",
      "(2000, 8)\n"
     ]
    },
    {
     "data": {
      "text/html": [
       "<div>\n",
       "<style scoped>\n",
       "    .dataframe tbody tr th:only-of-type {\n",
       "        vertical-align: middle;\n",
       "    }\n",
       "\n",
       "    .dataframe tbody tr th {\n",
       "        vertical-align: top;\n",
       "    }\n",
       "\n",
       "    .dataframe thead th {\n",
       "        text-align: right;\n",
       "    }\n",
       "</style>\n",
       "<table border=\"1\" class=\"dataframe\">\n",
       "  <thead>\n",
       "    <tr style=\"text-align: right;\">\n",
       "      <th></th>\n",
       "      <th>0</th>\n",
       "      <th>1</th>\n",
       "      <th>3</th>\n",
       "      <th>2</th>\n",
       "      <th>4</th>\n",
       "      <th>5</th>\n",
       "      <th>6</th>\n",
       "      <th>7</th>\n",
       "    </tr>\n",
       "  </thead>\n",
       "  <tbody>\n",
       "    <tr>\n",
       "      <th>36098</th>\n",
       "      <td>0.108392</td>\n",
       "      <td>0.024084</td>\n",
       "      <td>0.026045</td>\n",
       "      <td>-0.005385</td>\n",
       "      <td>0.139262</td>\n",
       "      <td>0.151287</td>\n",
       "      <td>-0.064277</td>\n",
       "      <td>-0.012551</td>\n",
       "    </tr>\n",
       "    <tr>\n",
       "      <th>59392</th>\n",
       "      <td>-0.000916</td>\n",
       "      <td>0.182568</td>\n",
       "      <td>-0.122388</td>\n",
       "      <td>-0.074176</td>\n",
       "      <td>-0.039577</td>\n",
       "      <td>-0.026343</td>\n",
       "      <td>-0.029699</td>\n",
       "      <td>0.126229</td>\n",
       "    </tr>\n",
       "    <tr>\n",
       "      <th>24729</th>\n",
       "      <td>-0.074646</td>\n",
       "      <td>-0.025268</td>\n",
       "      <td>-0.066130</td>\n",
       "      <td>0.160876</td>\n",
       "      <td>0.070721</td>\n",
       "      <td>0.211946</td>\n",
       "      <td>0.168055</td>\n",
       "      <td>-0.031174</td>\n",
       "    </tr>\n",
       "    <tr>\n",
       "      <th>47712</th>\n",
       "      <td>-0.164617</td>\n",
       "      <td>0.077188</td>\n",
       "      <td>0.054221</td>\n",
       "      <td>-0.113241</td>\n",
       "      <td>-0.278728</td>\n",
       "      <td>-0.162192</td>\n",
       "      <td>-0.009856</td>\n",
       "      <td>-0.296473</td>\n",
       "    </tr>\n",
       "    <tr>\n",
       "      <th>25473</th>\n",
       "      <td>-0.154975</td>\n",
       "      <td>0.302169</td>\n",
       "      <td>0.160335</td>\n",
       "      <td>-0.108772</td>\n",
       "      <td>-0.111807</td>\n",
       "      <td>-0.132010</td>\n",
       "      <td>-0.235319</td>\n",
       "      <td>0.063081</td>\n",
       "    </tr>\n",
       "  </tbody>\n",
       "</table>\n",
       "</div>"
      ],
      "text/plain": [
       "              0         1         3         2         4         5         6  \\\n",
       "36098  0.108392  0.024084  0.026045 -0.005385  0.139262  0.151287 -0.064277   \n",
       "59392 -0.000916  0.182568 -0.122388 -0.074176 -0.039577 -0.026343 -0.029699   \n",
       "24729 -0.074646 -0.025268 -0.066130  0.160876  0.070721  0.211946  0.168055   \n",
       "47712 -0.164617  0.077188  0.054221 -0.113241 -0.278728 -0.162192 -0.009856   \n",
       "25473 -0.154975  0.302169  0.160335 -0.108772 -0.111807 -0.132010 -0.235319   \n",
       "\n",
       "              7  \n",
       "36098 -0.012551  \n",
       "59392  0.126229  \n",
       "24729 -0.031174  \n",
       "47712 -0.296473  \n",
       "25473  0.063081  "
      ]
     },
     "metadata": {},
     "output_type": "display_data"
    },
    {
     "name": "stdout",
     "output_type": "stream",
     "text": [
      "['0', '1', '2', '3', '4', '5', '6', '7']\n"
     ]
    }
   ],
   "source": [
    "print(df.shape)\n",
    "df = df.sample(2000)\n",
    "print(df.shape)\n",
    "display(df.head())\n",
    "print(true_graph.nodes)"
   ]
  },
  {
   "cell_type": "code",
   "execution_count": 30,
   "id": "306daf0f-c1f0-4a43-b315-84e3fbd6371d",
   "metadata": {},
   "outputs": [
    {
     "name": "stdout",
     "output_type": "stream",
     "text": [
      "[('0', '3'), ('0', '4'), ('0', '6'), ('1', '2'), ('1', '6'), ('2', '7'), ('3', '4'), ('3', '5'), ('3', '6'), ('4', '5'), ('5', '6'), ('5', '7'), ('6', '7')]\n",
      "True\n"
     ]
    }
   ],
   "source": [
    "print(true_graph.edges)"
   ]
  },
  {
   "cell_type": "markdown",
   "id": "c3f05c26-e836-402b-aba0-2cbb22c172f1",
   "metadata": {},
   "source": [
    "## Try with Simulations"
   ]
  },
  {
   "cell_type": "code",
   "execution_count": 7,
   "id": "a84aaf27-198e-439a-8a74-67a768c44aac",
   "metadata": {},
   "outputs": [],
   "source": [
    "seed = 12345\n",
    "rng = np.random.RandomState(seed)\n",
    "X = rng.randn(300, 1)\n",
    "X1 = rng.randn(300, 1)\n",
    "Y = np.concatenate((X, X), axis=1) + 0.5 * rng.randn(300, 2)\n",
    "Z = Y + 0.5 * rng.randn(300, 2)"
   ]
  },
  {
   "cell_type": "code",
   "execution_count": null,
   "id": "0b07e6c6-f2ea-424b-9eba-70422715cf9c",
   "metadata": {},
   "outputs": [],
   "source": [
    "ci_estimator = PartialCorrelation()\n",
    "_, pvalue = ci_estimator.test(X, X1)"
   ]
  },
  {
   "cell_type": "code",
   "execution_count": null,
   "id": "e377577c-6e1a-4bce-b32b-d0f3c6f5ba22",
   "metadata": {},
   "outputs": [],
   "source": [
    "import numpy as np\n",
    "import scipy.stats\n",
    "x = np.array([0, 1, 2, 3, 5, 8, 13])\n",
    "y = np.array([1.2, 1.4, 1.6, 1.7, 2.0, 4.1, 6.6])\n",
    "\n",
    "r, p = scipy.stats.pearsonr(x, y)"
   ]
  },
  {
   "cell_type": "code",
   "execution_count": null,
   "id": "a0d4eca8-8a69-4c43-9a38-5b54bb7bdda5",
   "metadata": {},
   "outputs": [],
   "source": []
  }
 ],
 "metadata": {
  "kernelspec": {
   "display_name": "causalx64_2",
   "language": "python",
   "name": "causalx64_2"
  },
  "language_info": {
   "codemirror_mode": {
    "name": "ipython",
    "version": 3
   },
   "file_extension": ".py",
   "mimetype": "text/x-python",
   "name": "python",
   "nbconvert_exporter": "python",
   "pygments_lexer": "ipython3",
   "version": "3.9.13"
  }
 },
 "nbformat": 4,
 "nbformat_minor": 5
}
