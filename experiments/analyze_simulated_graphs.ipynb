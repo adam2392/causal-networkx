{
 "cells": [
  {
   "cell_type": "markdown",
   "id": "f5210a8d-b7d6-4350-ac66-0db2f82f3625",
   "metadata": {},
   "source": [
    "# Random Graph Experimentation - Comparing RobustPC variants vs PC algorithm\n",
    "\n",
    "We hypothesize that RobustPC in the context of **faithful** and/or **m-strong-faithful** graphs will perform better than the naive PC algorithm. The baseline CPDAG we want to compare to is the one using a ParentOracle, which is uniformly consistent for all graphs.\n",
    "\n",
    "We have the following comparisons that leverage the momentary conditional independence condition (MCI), which leverages a fixed conditioning set in addition to that suggested via PC:\n",
    "\n",
    "    - definite parents: Using a parent oracle\n",
    "    - definite children: Using a children oracle\n",
    "    - definite parents + definite children: Using a parent + children oracle\n",
    "    - definite Markov blanket: Using the markov blanket oracle\n",
    "    - estimated parents: using \"some\" procedure to estimate the parents\n",
    "    - estimated parents + children: using \"some\" procedure to estimate the parents+children\n",
    "    - estimated markov blanket: estimating the markov blanket\n",
    "    \n",
    "References\n",
    "----------\n",
    "[1] https://www.jmlr.org/papers/volume9/pellet08a/pellet08a.pdf"
   ]
  },
  {
   "cell_type": "code",
   "execution_count": 1,
   "id": "c663a97c-fc60-4a34-ba83-adc958ca5b43",
   "metadata": {},
   "outputs": [],
   "source": [
    "%load_ext lab_black"
   ]
  },
  {
   "cell_type": "code",
   "execution_count": 2,
   "id": "6275564c-6748-4d68-87fe-c09811c4ca4f",
   "metadata": {},
   "outputs": [],
   "source": [
    "%load_ext autoreload\n",
    "%autoreload 2"
   ]
  },
  {
   "cell_type": "code",
   "execution_count": 10,
   "id": "87c7b746-98c5-4f5f-930e-e01a08c1f3d2",
   "metadata": {},
   "outputs": [],
   "source": [
    "import os\n",
    "from pathlib import Path\n",
    "from pprint import pprint\n",
    "import json\n",
    "\n",
    "import numpy as np\n",
    "import bnlearn as bn\n",
    "import networkx as nx\n",
    "import pandas as pd\n",
    "\n",
    "import causal_networkx\n",
    "from causal_networkx.ci import (\n",
    "    g_square_discrete,\n",
    "    fisherz,\n",
    "    g_square_binary,\n",
    "    Oracle,\n",
    "    ParentOracle,\n",
    ")\n",
    "from causal_networkx.discovery import PC, RobustPC\n",
    "from causal_networkx.io import read_dot, load_from_networkx\n",
    "\n",
    "import matplotlib.pyplot as plt\n",
    "import seaborn as sns"
   ]
  },
  {
   "cell_type": "code",
   "execution_count": 11,
   "id": "a43eed3b-c147-4728-9496-425876dc3b48",
   "metadata": {},
   "outputs": [],
   "source": [
    "np.random.seed(12345)"
   ]
  },
  {
   "cell_type": "markdown",
   "id": "f220ea18-7fec-48b8-8cbb-cc31bd84dec0",
   "metadata": {},
   "source": [
    "# Set up to load the data\n",
    "\n",
    "The data should have been previously generated via the manm_cs package for additive noise models. We will load the data in with specific parameters."
   ]
  },
  {
   "cell_type": "code",
   "execution_count": 12,
   "id": "3985daa1-72e9-4825-bd39-c21808bba41d",
   "metadata": {},
   "outputs": [],
   "source": [
    "data_dir = Path(\"/Volumes/Extreme Pro/structure_learning_manm_sim\")"
   ]
  },
  {
   "cell_type": "code",
   "execution_count": 31,
   "id": "da215f50-ea4d-4430-854a-8a2764addae6",
   "metadata": {},
   "outputs": [
    {
     "name": "stdout",
     "output_type": "stream",
     "text": [
      "(500000, 9)\n",
      "(2000, 9)\n"
     ]
    }
   ],
   "source": [
    "print(df.shape)\n",
    "df = df.sample(2000)\n",
    "print(df.shape)"
   ]
  },
  {
   "cell_type": "code",
   "execution_count": 27,
   "id": "a00a45ac-963b-4043-b9ce-a0f2a9e0bcdd",
   "metadata": {},
   "outputs": [
    {
     "name": "stdout",
     "output_type": "stream",
     "text": [
      "<causal_networkx.graphs.dag.DAG object at 0x7fb0a85552e0>\n",
      "{'idx': 310, 'n_nodes': 8, 'n_samples': 500000, 'edge_density': 0.5, 'discrete_node_ratio': 0.0, 'conditional_gaussian': True, 'discrete_signal_to_noise_ratio': 0.9, 'min_discrete_value_classes': 3, 'max_discrete_value_classes': 4, 'continuous_noise_std': 0.1, 'beta_lower_limit': 0.5, 'beta_upper_limit': 1.0, 'functions_prob': [1.0], 'functions': 'linear'}\n"
     ]
    },
    {
     "data": {
      "image/png": "[encoded data removed]",
      "text/plain": [
       "<Figure size 432x288 with 1 Axes>"
      ]
     },
     "metadata": {},
     "output_type": "display_data"
    }
   ],
   "source": [
    "for idx in range(310, 320):\n",
    "    data_fname = data_dir / f\"graph_{idx}.csv\"\n",
    "    graph_fname = data_dir / f\"graph_{idx}.gml\"\n",
    "    meta_fname = data_dir / f\"graph_{idx}.json\"\n",
    "\n",
    "    # load the actual data\n",
    "    df = pd.read_csv(data_fname)\n",
    "    nx_graph = nx.read_gml(graph_fname)\n",
    "    true_graph = load_from_networkx(nx_graph)\n",
    "    with open(meta_fname, \"r\") as fin:\n",
    "        meta_dict = json.load(fin)\n",
    "\n",
    "    # sub-sample data\n",
    "    df = df.sample(2000)\n",
    "        \n",
    "    # run the PC algorithm with Oracle\n",
    "    oracle = Oracle(true_graph)\n",
    "    pc_oracle = PC(\n",
    "        ci_estimator=oracle.ci_test\n",
    "    )\n",
    "    pc_oracle.fit(df)\n",
    "    \n",
    "    # run the PC algorithm with partial correlation\n",
    "    pc_alg = PC(ci_estimator=parcorr)\n",
    "    \n",
    "    # run the RobustPC algorithm with partial correlation\n",
    "    robustpc = RobustPC(ci_estimator=parcorr)\n",
    "    \n",
    "    # run the RobustPC algorithm with ParentOracle\n",
    "        \n",
    "    # true_graph.draw()\n",
    "    # print(true_graph)\n",
    "    # print(meta_dict)\n",
    "    break"
   ]
  },
  {
   "cell_type": "code",
   "execution_count": 30,
   "id": "306daf0f-c1f0-4a43-b315-84e3fbd6371d",
   "metadata": {},
   "outputs": [
    {
     "name": "stdout",
     "output_type": "stream",
     "text": [
      "[('0', '3'), ('0', '4'), ('0', '6'), ('1', '2'), ('1', '6'), ('2', '7'), ('3', '4'), ('3', '5'), ('3', '6'), ('4', '5'), ('5', '6'), ('5', '7'), ('6', '7')]\n",
      "True\n"
     ]
    }
   ],
   "source": [
    "print(true_graph.edges)"
   ]
  },
  {
   "cell_type": "code",
   "execution_count": null,
   "id": "8419826c-3d78-46ed-8789-e7b4153ea5d7",
   "metadata": {},
   "outputs": [],
   "source": []
  }
 ],
 "metadata": {
  "kernelspec": {
   "display_name": "causalx64",
   "language": "python",
   "name": "causalx64"
  },
  "language_info": {
   "codemirror_mode": {
    "name": "ipython",
    "version": 3
   },
   "file_extension": ".py",
   "mimetype": "text/x-python",
   "name": "python",
   "nbconvert_exporter": "python",
   "pygments_lexer": "ipython3",
   "version": "3.8.12"
  }
 },
 "nbformat": 4,
 "nbformat_minor": 5
}
