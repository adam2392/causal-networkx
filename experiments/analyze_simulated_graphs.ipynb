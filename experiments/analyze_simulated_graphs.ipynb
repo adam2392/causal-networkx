{
 "cells": [
  {
   "cell_type": "markdown",
   "id": "f5210a8d-b7d6-4350-ac66-0db2f82f3625",
   "metadata": {},
   "source": [
    "# Random Graph Experimentation - Comparing RobustPC variants vs PC algorithm\n",
    "\n",
    "We hypothesize that RobustPC in the context of **faithful** and/or **m-strong-faithful** graphs will perform better than the naive PC algorithm. The baseline CPDAG we want to compare to is the one using a ParentOracle, which is uniformly consistent for all graphs.\n",
    "\n",
    "We have the following comparisons that leverage the momentary conditional independence condition (MCI), which leverages a fixed conditioning set in addition to that suggested via PC:\n",
    "\n",
    "    - definite parents: Using a parent oracle\n",
    "    - definite children: Using a children oracle\n",
    "    - definite parents + definite children: Using a parent + children oracle\n",
    "    - definite Markov blanket: Using the markov blanket oracle\n",
    "    - estimated parents: using \"some\" procedure to estimate the parents\n",
    "    - estimated parents + children: using \"some\" procedure to estimate the parents+children\n",
    "    - estimated markov blanket: estimating the markov blanket\n",
    "    \n",
    "References\n",
    "----------\n",
    "[1] https://www.jmlr.org/papers/volume9/pellet08a/pellet08a.pdf"
   ]
  },
  {
   "cell_type": "code",
   "execution_count": 2,
   "id": "c663a97c-fc60-4a34-ba83-adc958ca5b43",
   "metadata": {},
   "outputs": [],
   "source": [
    "%load_ext lab_black"
   ]
  },
  {
   "cell_type": "code",
   "execution_count": 3,
   "id": "6275564c-6748-4d68-87fe-c09811c4ca4f",
   "metadata": {},
   "outputs": [],
   "source": [
    "%load_ext autoreload\n",
    "%autoreload 2"
   ]
  },
  {
   "cell_type": "code",
   "execution_count": 5,
   "id": "87c7b746-98c5-4f5f-930e-e01a08c1f3d2",
   "metadata": {},
   "outputs": [],
   "source": [
    "import os\n",
    "from pathlib import Path\n",
    "from pprint import pprint\n",
    "import json\n",
    "\n",
    "import numpy as np\n",
    "import bnlearn as bn\n",
    "import networkx as nx\n",
    "import pandas as pd\n",
    "\n",
    "import causal_networkx\n",
    "from causal_networkx.ci import (\n",
    "    g_square_discrete,\n",
    "    fisherz,\n",
    "    g_square_binary,\n",
    "    PartialCorrelation,\n",
    "    Oracle,\n",
    "    ParentOracle,\n",
    ")\n",
    "from causal_networkx.discovery import PC, RobustPC\n",
    "from causal_networkx.io import read_dot, load_from_networkx\n",
    "\n",
    "import matplotlib.pyplot as plt\n",
    "import seaborn as sns"
   ]
  },
  {
   "cell_type": "code",
   "execution_count": 6,
   "id": "a43eed3b-c147-4728-9496-425876dc3b48",
   "metadata": {},
   "outputs": [],
   "source": [
    "np.random.seed(12345)"
   ]
  },
  {
   "cell_type": "markdown",
   "id": "f220ea18-7fec-48b8-8cbb-cc31bd84dec0",
   "metadata": {},
   "source": [
    "# Set up to load the data\n",
    "\n",
    "The data should have been previously generated via the manm_cs package for additive noise models. We will load the data in with specific parameters."
   ]
  },
  {
   "cell_type": "code",
   "execution_count": 8,
   "id": "3985daa1-72e9-4825-bd39-c21808bba41d",
   "metadata": {},
   "outputs": [],
   "source": [
    "data_dir = Path(\"/Volumes/Extreme Pro/structure_learning_manm_sim\")"
   ]
  },
  {
   "cell_type": "code",
   "execution_count": 15,
   "id": "be054486-a239-4143-ab27-27bf42e9da73",
   "metadata": {},
   "outputs": [],
   "source": [
    "ci_est = \"parcorr\"\n",
    "ci_estimator = PartialCorrelation()"
   ]
  },
  {
   "cell_type": "code",
   "execution_count": 23,
   "id": "a00a45ac-963b-4043-b9ce-a0f2a9e0bcdd",
   "metadata": {},
   "outputs": [
    {
     "ename": "TypeError",
     "evalue": "'PartialCorrelation' object is not callable",
     "output_type": "error",
     "traceback": [
      "\u001b[0;31m---------------------------------------------------------------------------\u001b[0m",
      "\u001b[0;31mTypeError\u001b[0m                                 Traceback (most recent call last)",
      "Input \u001b[0;32mIn [23]\u001b[0m, in \u001b[0;36m<cell line: 1>\u001b[0;34m()\u001b[0m\n\u001b[1;32m     47\u001b[0m partial_knowledge \u001b[38;5;241m=\u001b[39m ParentOracle(true_graph)\n\u001b[1;32m     48\u001b[0m robustpc \u001b[38;5;241m=\u001b[39m RobustPC(ci_estimator\u001b[38;5;241m=\u001b[39mci_estimator,\n\u001b[1;32m     49\u001b[0m                     partial_knowledge\u001b[38;5;241m=\u001b[39mpartial_knowledge,\n\u001b[1;32m     50\u001b[0m                     skip_first_stage\u001b[38;5;241m=\u001b[39m\u001b[38;5;28;01mTrue\u001b[39;00m,\n\u001b[1;32m     51\u001b[0m                     use_children\u001b[38;5;241m=\u001b[39m\u001b[38;5;28;01mFalse\u001b[39;00m)\n\u001b[0;32m---> 53\u001b[0m \u001b[43mrobustpc\u001b[49m\u001b[38;5;241;43m.\u001b[39;49m\u001b[43mfit\u001b[49m\u001b[43m(\u001b[49m\u001b[43mdf\u001b[49m\u001b[43m)\u001b[49m\n\u001b[1;32m     54\u001b[0m graph \u001b[38;5;241m=\u001b[39m robustpc\u001b[38;5;241m.\u001b[39mgraph_\n\u001b[1;32m     55\u001b[0m fname \u001b[38;5;241m=\u001b[39m data_dir \u001b[38;5;241m/\u001b[39m \u001b[38;5;124mf\u001b[39m\u001b[38;5;124m'\u001b[39m\u001b[38;5;124mgraph_robust_defparents_\u001b[39m\u001b[38;5;132;01m{\u001b[39;00mci_est\u001b[38;5;132;01m}\u001b[39;00m\u001b[38;5;124m_\u001b[39m\u001b[38;5;132;01m{\u001b[39;00midx\u001b[38;5;132;01m}\u001b[39;00m\u001b[38;5;124m.gml\u001b[39m\u001b[38;5;124m'\u001b[39m\n",
      "File \u001b[0;32m~/Documents/causal-networkx/causal_networkx/discovery/classes.py:155\u001b[0m, in \u001b[0;36mConstraintDiscovery.fit\u001b[0;34m(self, X)\u001b[0m\n\u001b[1;32m    152\u001b[0m graph, sep_set, fixed_edges \u001b[38;5;241m=\u001b[39m \u001b[38;5;28mself\u001b[39m\u001b[38;5;241m.\u001b[39m_initialize_graph(X)\n\u001b[1;32m    154\u001b[0m \u001b[38;5;66;03m# learn skeleton graph and the separating sets per variable\u001b[39;00m\n\u001b[0;32m--> 155\u001b[0m graph, sep_set, _, _ \u001b[38;5;241m=\u001b[39m \u001b[38;5;28;43mself\u001b[39;49m\u001b[38;5;241;43m.\u001b[39;49m\u001b[43mlearn_skeleton\u001b[49m\u001b[43m(\u001b[49m\u001b[43mX\u001b[49m\u001b[43m,\u001b[49m\u001b[43m \u001b[49m\u001b[43mgraph\u001b[49m\u001b[43m,\u001b[49m\u001b[43m \u001b[49m\u001b[43msep_set\u001b[49m\u001b[43m,\u001b[49m\u001b[43m \u001b[49m\u001b[43mfixed_edges\u001b[49m\u001b[43m)\u001b[49m\n\u001b[1;32m    157\u001b[0m \u001b[38;5;66;03m# convert networkx.Graph to relevant causal graph object\u001b[39;00m\n\u001b[1;32m    158\u001b[0m graph \u001b[38;5;241m=\u001b[39m \u001b[38;5;28mself\u001b[39m\u001b[38;5;241m.\u001b[39mconvert_skeleton_graph(graph)\n",
      "File \u001b[0;32m~/Documents/causal-networkx/causal_networkx/discovery/pcalg.py:417\u001b[0m, in \u001b[0;36mRobustPC.learn_skeleton\u001b[0;34m(self, X, graph, sep_set, fixed_edges)\u001b[0m\n\u001b[1;32m    414\u001b[0m \u001b[38;5;28mself\u001b[39m\u001b[38;5;241m.\u001b[39mdef_children_ \u001b[38;5;241m=\u001b[39m def_children_dict\n\u001b[1;32m    416\u001b[0m \u001b[38;5;66;03m# now we will re-learn the skeleton using the MCI condition\u001b[39;00m\n\u001b[0;32m--> 417\u001b[0m skel_graph, sep_set, test_stat_dict, pvalue_dict \u001b[38;5;241m=\u001b[39m \u001b[43mlearn_skeleton_graph_with_order\u001b[49m\u001b[43m(\u001b[49m\u001b[43m  \u001b[49m\u001b[38;5;66;43;03m# type: ignore\u001b[39;49;00m\n\u001b[1;32m    418\u001b[0m \u001b[43m    \u001b[49m\u001b[43mX\u001b[49m\u001b[43m,\u001b[49m\n\u001b[1;32m    419\u001b[0m \u001b[43m    \u001b[49m\u001b[38;5;28;43mself\u001b[39;49m\u001b[38;5;241;43m.\u001b[39;49m\u001b[43mmci_ci_estimator\u001b[49m\u001b[43m,\u001b[49m\n\u001b[1;32m    420\u001b[0m \u001b[43m    \u001b[49m\u001b[43madj_graph\u001b[49m\u001b[38;5;241;43m=\u001b[39;49m\u001b[43morig_graph\u001b[49m\u001b[43m,\u001b[49m\n\u001b[1;32m    421\u001b[0m \u001b[43m    \u001b[49m\u001b[43msep_set\u001b[49m\u001b[38;5;241;43m=\u001b[39;49m\u001b[43morig_sep_set\u001b[49m\u001b[43m,\u001b[49m\n\u001b[1;32m    422\u001b[0m \u001b[43m    \u001b[49m\u001b[43mfixed_edges\u001b[49m\u001b[38;5;241;43m=\u001b[39;49m\u001b[43mfixed_edges\u001b[49m\u001b[43m,\u001b[49m\n\u001b[1;32m    423\u001b[0m \u001b[43m    \u001b[49m\u001b[43malpha\u001b[49m\u001b[38;5;241;43m=\u001b[39;49m\u001b[38;5;28;43mself\u001b[39;49m\u001b[38;5;241;43m.\u001b[39;49m\u001b[43mmci_alpha\u001b[49m\u001b[43m,\u001b[49m\n\u001b[1;32m    424\u001b[0m \u001b[43m    \u001b[49m\u001b[43mmin_cond_set_size\u001b[49m\u001b[38;5;241;43m=\u001b[39;49m\u001b[38;5;28;43mself\u001b[39;49m\u001b[38;5;241;43m.\u001b[39;49m\u001b[43mmin_cond_set_size\u001b[49m\u001b[43m,\u001b[49m\n\u001b[1;32m    425\u001b[0m \u001b[43m    \u001b[49m\u001b[43mmax_cond_set_size\u001b[49m\u001b[38;5;241;43m=\u001b[39;49m\u001b[38;5;28;43mself\u001b[39;49m\u001b[38;5;241;43m.\u001b[39;49m\u001b[43mmax_cond_set_size\u001b[49m\u001b[43m,\u001b[49m\n\u001b[1;32m    426\u001b[0m \u001b[43m    \u001b[49m\u001b[43mmax_combinations\u001b[49m\u001b[38;5;241;43m=\u001b[39;49m\u001b[38;5;241;43m1\u001b[39;49m\u001b[43m,\u001b[49m\n\u001b[1;32m    427\u001b[0m \u001b[43m    \u001b[49m\u001b[43mkeep_sorted\u001b[49m\u001b[38;5;241;43m=\u001b[39;49m\u001b[38;5;28;43;01mFalse\u001b[39;49;00m\u001b[43m,\u001b[49m\n\u001b[1;32m    428\u001b[0m \u001b[43m    \u001b[49m\u001b[43mwith_mci\u001b[49m\u001b[38;5;241;43m=\u001b[39;49m\u001b[38;5;28;43;01mTrue\u001b[39;49;00m\u001b[43m,\u001b[49m\n\u001b[1;32m    429\u001b[0m \u001b[43m    \u001b[49m\u001b[43mmax_conds_x\u001b[49m\u001b[38;5;241;43m=\u001b[39;49m\u001b[38;5;28;43mself\u001b[39;49m\u001b[38;5;241;43m.\u001b[39;49m\u001b[43mmax_conds_x\u001b[49m\u001b[43m,\u001b[49m\n\u001b[1;32m    430\u001b[0m \u001b[43m    \u001b[49m\u001b[43mmax_conds_y\u001b[49m\u001b[38;5;241;43m=\u001b[39;49m\u001b[38;5;28;43mself\u001b[39;49m\u001b[38;5;241;43m.\u001b[39;49m\u001b[43mmax_conds_y\u001b[49m\u001b[43m,\u001b[49m\n\u001b[1;32m    431\u001b[0m \u001b[43m    \u001b[49m\u001b[43mparent_dep_dict\u001b[49m\u001b[38;5;241;43m=\u001b[39;49m\u001b[43mtest_stat_dict\u001b[49m\u001b[43m,\u001b[49m\n\u001b[1;32m    432\u001b[0m \u001b[43m    \u001b[49m\u001b[43msize_inclusive\u001b[49m\u001b[38;5;241;43m=\u001b[39;49m\u001b[38;5;28;43mself\u001b[39;49m\u001b[38;5;241;43m.\u001b[39;49m\u001b[43msize_inclusive\u001b[49m\u001b[43m,\u001b[49m\n\u001b[1;32m    433\u001b[0m \u001b[43m    \u001b[49m\u001b[43monly_mci\u001b[49m\u001b[38;5;241;43m=\u001b[39;49m\u001b[38;5;28;43mself\u001b[39;49m\u001b[38;5;241;43m.\u001b[39;49m\u001b[43monly_mci\u001b[49m\u001b[43m,\u001b[49m\n\u001b[1;32m    434\u001b[0m \u001b[43m    \u001b[49m\u001b[38;5;241;43m*\u001b[39;49m\u001b[38;5;241;43m*\u001b[39;49m\u001b[38;5;28;43mself\u001b[39;49m\u001b[38;5;241;43m.\u001b[39;49m\u001b[43mci_estimator_kwargs\u001b[49m\u001b[43m,\u001b[49m\n\u001b[1;32m    435\u001b[0m \u001b[43m\u001b[49m\u001b[43m)\u001b[49m\n\u001b[1;32m    436\u001b[0m \u001b[38;5;28;01mreturn\u001b[39;00m skel_graph, sep_set, test_stat_dict, pvalue_dict\n",
      "File \u001b[0;32m~/Documents/causal-networkx/causal_networkx/discovery/skeleton.py:488\u001b[0m, in \u001b[0;36mlearn_skeleton_graph_with_order\u001b[0;34m(X, ci_estimator, adj_graph, sep_set, fixed_edges, alpha, min_cond_set_size, max_cond_set_size, max_combinations, keep_sorted, with_mci, max_conds_x, max_conds_y, parent_dep_dict, size_inclusive, only_mci, **ci_estimator_kwargs)\u001b[0m\n\u001b[1;32m    485\u001b[0m     \u001b[38;5;28;01mbreak\u001b[39;00m\n\u001b[1;32m    487\u001b[0m \u001b[38;5;66;03m# compute conditional independence test\u001b[39;00m\n\u001b[0;32m--> 488\u001b[0m test_stat, pvalue \u001b[38;5;241m=\u001b[39m \u001b[43mci_estimator\u001b[49m\u001b[43m(\u001b[49m\u001b[43mX\u001b[49m\u001b[43m,\u001b[49m\u001b[43m \u001b[49m\u001b[43mi\u001b[49m\u001b[43m,\u001b[49m\u001b[43m \u001b[49m\u001b[43mj\u001b[49m\u001b[43m,\u001b[49m\u001b[43m \u001b[49m\u001b[38;5;28;43mset\u001b[39;49m\u001b[43m(\u001b[49m\u001b[43mcond_set\u001b[49m\u001b[43m)\u001b[49m\u001b[43m,\u001b[49m\u001b[43m \u001b[49m\u001b[38;5;241;43m*\u001b[39;49m\u001b[38;5;241;43m*\u001b[39;49m\u001b[43mci_estimator_kwargs\u001b[49m\u001b[43m)\u001b[49m\n\u001b[1;32m    490\u001b[0m \u001b[38;5;66;03m# keep track of the smallest test statistic, meaning the highest pvalue\u001b[39;00m\n\u001b[1;32m    491\u001b[0m \u001b[38;5;66;03m# meaning the \"most\" independent\u001b[39;00m\n\u001b[1;32m    492\u001b[0m \u001b[38;5;28;01mif\u001b[39;00m np\u001b[38;5;241m.\u001b[39mabs(test_stat) \u001b[38;5;241m<\u001b[39m test_stat_dict[i]\u001b[38;5;241m.\u001b[39mget(j, np\u001b[38;5;241m.\u001b[39minf):\n",
      "\u001b[0;31mTypeError\u001b[0m: 'PartialCorrelation' object is not callable"
     ]
    }
   ],
   "source": [
    "for idx in range(310, 320):\n",
    "    data_fname = data_dir / f\"graph_{idx}.csv\"\n",
    "    graph_fname = data_dir / f\"graph_{idx}.gml\"\n",
    "    meta_fname = data_dir / f\"graph_{idx}.json\"\n",
    "\n",
    "    # load the actual data\n",
    "    df = pd.read_csv(data_fname, index_col=0)\n",
    "    nx_graph = nx.read_gml(graph_fname)\n",
    "    true_graph = load_from_networkx(nx_graph)\n",
    "    with open(meta_fname, \"r\") as fin:\n",
    "        meta_dict = json.load(fin)\n",
    "\n",
    "    # sub-sample data\n",
    "    df = df.sample(2000)\n",
    "\n",
    "    # run the PC algorithm with Oracle\n",
    "    oracle = Oracle(true_graph)\n",
    "    pc_oracle = PC(ci_estimator=oracle.ci_test)\n",
    "    pc_oracle.fit(df)\n",
    "    \n",
    "    oracle_graph = pc_oracle.graph_\n",
    "    fname = data_dir / f'graph_oracle_{idx}.gml'\n",
    "    oracle_graph.save(fname, format=\"networkx-gml\")\n",
    "\n",
    "    # run the PC algorithm with partial correlation\n",
    "    pc_alg = PC(ci_estimator=parcorr.test)\n",
    "    pc_alg.fit(df)\n",
    "    \n",
    "    pc_graph = pc_oracle.graph_\n",
    "    fname = data_dir / f'graph_pcalg_{idx}.gml'\n",
    "    pc_graph.save(fname, format=\"networkx-gml\")\n",
    "    \n",
    "    # ci_estimator=ci_estimator,\n",
    "    # max_cond_set_size=max_cond_set_size,\n",
    "    # alpha=alpha,\n",
    "    # max_combinations=None,\n",
    "    # max_conds_x=max_conds_x,\n",
    "    # max_conds_y=max_conds_y,\n",
    "    # mci_alpha=mci_alpha,\n",
    "    # partial_knowledge=partial_knowledge,\n",
    "    # size_inclusive=size_inclusive,\n",
    "    # use_children=False,\n",
    "    # skip_first_stage=True,\n",
    "    # only_mci=True,\n",
    "    \n",
    "    # run the RobustPC algorithm with partial correlation with ParentOracle\n",
    "    partial_knowledge = ParentOracle(true_graph)\n",
    "    robustpc = RobustPC(ci_estimator=ci_estimator,\n",
    "                        partial_knowledge=partial_knowledge,\n",
    "                        skip_first_stage=True,\n",
    "                        use_children=False)\n",
    "    \n",
    "    robustpc.fit(df)\n",
    "    graph = robustpc.graph_\n",
    "    fname = data_dir / f'graph_robust_defparents_{ci_est}_{idx}.gml'\n",
    "    graph.save(fname, format=\"networkx-gml\")\n",
    "    \n",
    "    # run the RobustPC algorithm with partial correlation with ParentChildrenOracle\n",
    "    partial_knowledge = ParentOracle(true_graph)\n",
    "    robustpc = RobustPC(ci_estimator=ci_estimator,\n",
    "                       partial_knowledge=partial_knowledge,\n",
    "                       skip_first_stage=True,\n",
    "                       use_children=True,\n",
    "                       )\n",
    "    robustpc.fit(df)\n",
    "    graph = robustpc.graph_\n",
    "    fname = data_dir / f'graph_robust_defparentschildren_{ci_est}_{idx}.gml'\n",
    "    graph.save(fname, format=\"networkx-gml\")\n",
    "    \n",
    "    # run the RobustPC algorithm with partial correlation with ParentChildrenOracle\n",
    "    # partial_knowledge = ParentOracle(true_graph)\n",
    "    # robustpc = RobustPC(ci_estimator=parcorr.test,\n",
    "    #                    partial_knowledge=partial_knowledge,\n",
    "    #                    skip_first_stage=True,)\n",
    "        \n",
    "    # true_graph.draw()\n",
    "    # print(true_graph)\n",
    "    # print(meta_dict)\n",
    "    break"
   ]
  },
  {
   "cell_type": "code",
   "execution_count": 19,
   "id": "da215f50-ea4d-4430-854a-8a2764addae6",
   "metadata": {},
   "outputs": [
    {
     "name": "stdout",
     "output_type": "stream",
     "text": [
      "(2000, 8)\n",
      "(2000, 8)\n"
     ]
    },
    {
     "data": {
      "text/html": [
       "<div>\n",
       "<style scoped>\n",
       "    .dataframe tbody tr th:only-of-type {\n",
       "        vertical-align: middle;\n",
       "    }\n",
       "\n",
       "    .dataframe tbody tr th {\n",
       "        vertical-align: top;\n",
       "    }\n",
       "\n",
       "    .dataframe thead th {\n",
       "        text-align: right;\n",
       "    }\n",
       "</style>\n",
       "<table border=\"1\" class=\"dataframe\">\n",
       "  <thead>\n",
       "    <tr style=\"text-align: right;\">\n",
       "      <th></th>\n",
       "      <th>0</th>\n",
       "      <th>1</th>\n",
       "      <th>3</th>\n",
       "      <th>2</th>\n",
       "      <th>4</th>\n",
       "      <th>5</th>\n",
       "      <th>6</th>\n",
       "      <th>7</th>\n",
       "    </tr>\n",
       "  </thead>\n",
       "  <tbody>\n",
       "    <tr>\n",
       "      <th>35745</th>\n",
       "      <td>0.003403</td>\n",
       "      <td>0.033700</td>\n",
       "      <td>0.203421</td>\n",
       "      <td>-0.076177</td>\n",
       "      <td>0.249018</td>\n",
       "      <td>0.123770</td>\n",
       "      <td>-0.134373</td>\n",
       "      <td>0.177194</td>\n",
       "    </tr>\n",
       "    <tr>\n",
       "      <th>40994</th>\n",
       "      <td>-0.112126</td>\n",
       "      <td>-0.120526</td>\n",
       "      <td>0.181267</td>\n",
       "      <td>-0.009901</td>\n",
       "      <td>0.055066</td>\n",
       "      <td>-0.036829</td>\n",
       "      <td>-0.099851</td>\n",
       "      <td>-0.107016</td>\n",
       "    </tr>\n",
       "    <tr>\n",
       "      <th>6769</th>\n",
       "      <td>0.232365</td>\n",
       "      <td>0.080657</td>\n",
       "      <td>-0.295970</td>\n",
       "      <td>0.099740</td>\n",
       "      <td>0.010127</td>\n",
       "      <td>0.073952</td>\n",
       "      <td>-0.094826</td>\n",
       "      <td>-0.209772</td>\n",
       "    </tr>\n",
       "    <tr>\n",
       "      <th>2676</th>\n",
       "      <td>-0.042552</td>\n",
       "      <td>0.021746</td>\n",
       "      <td>-0.037615</td>\n",
       "      <td>-0.027329</td>\n",
       "      <td>-0.075735</td>\n",
       "      <td>0.104392</td>\n",
       "      <td>0.128094</td>\n",
       "      <td>-0.102721</td>\n",
       "    </tr>\n",
       "    <tr>\n",
       "      <th>28080</th>\n",
       "      <td>0.124283</td>\n",
       "      <td>-0.275674</td>\n",
       "      <td>-0.236886</td>\n",
       "      <td>0.141696</td>\n",
       "      <td>0.084311</td>\n",
       "      <td>0.114855</td>\n",
       "      <td>0.422301</td>\n",
       "      <td>-0.198861</td>\n",
       "    </tr>\n",
       "  </tbody>\n",
       "</table>\n",
       "</div>"
      ],
      "text/plain": [
       "              0         1         3         2         4         5         6  \\\n",
       "35745  0.003403  0.033700  0.203421 -0.076177  0.249018  0.123770 -0.134373   \n",
       "40994 -0.112126 -0.120526  0.181267 -0.009901  0.055066 -0.036829 -0.099851   \n",
       "6769   0.232365  0.080657 -0.295970  0.099740  0.010127  0.073952 -0.094826   \n",
       "2676  -0.042552  0.021746 -0.037615 -0.027329 -0.075735  0.104392  0.128094   \n",
       "28080  0.124283 -0.275674 -0.236886  0.141696  0.084311  0.114855  0.422301   \n",
       "\n",
       "              7  \n",
       "35745  0.177194  \n",
       "40994 -0.107016  \n",
       "6769  -0.209772  \n",
       "2676  -0.102721  \n",
       "28080 -0.198861  "
      ]
     },
     "metadata": {},
     "output_type": "display_data"
    },
    {
     "name": "stdout",
     "output_type": "stream",
     "text": [
      "['0', '1', '2', '3', '4', '5', '6', '7']\n"
     ]
    }
   ],
   "source": [
    "print(df.shape)\n",
    "df = df.sample(2000)\n",
    "print(df.shape)\n",
    "display(df.head())\n",
    "print(true_graph.nodes)"
   ]
  },
  {
   "cell_type": "code",
   "execution_count": 30,
   "id": "306daf0f-c1f0-4a43-b315-84e3fbd6371d",
   "metadata": {},
   "outputs": [
    {
     "name": "stdout",
     "output_type": "stream",
     "text": [
      "[('0', '3'), ('0', '4'), ('0', '6'), ('1', '2'), ('1', '6'), ('2', '7'), ('3', '4'), ('3', '5'), ('3', '6'), ('4', '5'), ('5', '6'), ('5', '7'), ('6', '7')]\n",
      "True\n"
     ]
    }
   ],
   "source": [
    "print(true_graph.edges)"
   ]
  },
  {
   "cell_type": "markdown",
   "id": "c3f05c26-e836-402b-aba0-2cbb22c172f1",
   "metadata": {},
   "source": [
    "## Try with Simulations"
   ]
  },
  {
   "cell_type": "code",
   "execution_count": 7,
   "id": "a84aaf27-198e-439a-8a74-67a768c44aac",
   "metadata": {},
   "outputs": [],
   "source": [
    "seed = 12345\n",
    "rng = np.random.RandomState(seed)\n",
    "X = rng.randn(300, 1)\n",
    "X1 = rng.randn(300, 1)\n",
    "Y = np.concatenate((X, X), axis=1) + 0.5 * rng.randn(300, 2)\n",
    "Z = Y + 0.5 * rng.randn(300, 2)"
   ]
  },
  {
   "cell_type": "code",
   "execution_count": null,
   "id": "0b07e6c6-f2ea-424b-9eba-70422715cf9c",
   "metadata": {},
   "outputs": [],
   "source": [
    "ci_estimator = PartialCorrelation()\n",
    "_, pvalue = ci_estimator.test(X, X1)"
   ]
  },
  {
   "cell_type": "code",
   "execution_count": null,
   "id": "e377577c-6e1a-4bce-b32b-d0f3c6f5ba22",
   "metadata": {},
   "outputs": [],
   "source": [
    "import numpy as np\n",
    "import scipy.stats\n",
    "x = np.array([0, 1, 2, 3, 5, 8, 13])\n",
    "y = np.array([1.2, 1.4, 1.6, 1.7, 2.0, 4.1, 6.6])\n",
    "\n",
    "r, p = scipy.stats.pearsonr(x, y)"
   ]
  },
  {
   "cell_type": "code",
   "execution_count": null,
   "id": "a0d4eca8-8a69-4c43-9a38-5b54bb7bdda5",
   "metadata": {},
   "outputs": [],
   "source": []
  }
 ],
 "metadata": {
  "kernelspec": {
   "display_name": "causalx64_2",
   "language": "python",
   "name": "causalx64_2"
  },
  "language_info": {
   "codemirror_mode": {
    "name": "ipython",
    "version": 3
   },
   "file_extension": ".py",
   "mimetype": "text/x-python",
   "name": "python",
   "nbconvert_exporter": "python",
   "pygments_lexer": "ipython3",
   "version": "3.9.13"
  }
 },
 "nbformat": 4,
 "nbformat_minor": 5
}
