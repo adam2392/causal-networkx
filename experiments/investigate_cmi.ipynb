{
 "cells": [
  {
   "cell_type": "markdown",
   "id": "810cc83e-b3cf-4da6-96c4-15ddcecfd5cc",
   "metadata": {},
   "source": [
    "# Testing Conditional Mutual Information\n"
   ]
  },
  {
   "cell_type": "code",
   "execution_count": 1,
   "id": "af43c828-6b80-483a-a6c9-a4d17ed22e3f",
   "metadata": {},
   "outputs": [],
   "source": [
    "%load_ext lab_black"
   ]
  },
  {
   "cell_type": "code",
   "execution_count": 2,
   "id": "82273ec2-9ef1-4081-ba7a-abcf1d23b3d3",
   "metadata": {},
   "outputs": [],
   "source": [
    "%load_ext autoreload\n",
    "%autoreload 2"
   ]
  },
  {
   "cell_type": "code",
   "execution_count": 3,
   "id": "47205476-c9e0-4e21-9bbc-daf90633ed54",
   "metadata": {},
   "outputs": [
    {
     "ename": "ImportError",
     "evalue": "cannot import name 'CMITest' from 'dodiscover.ci' (/Users/adam2392/Documents/dodiscover/dodiscover/ci/__init__.py)",
     "output_type": "error",
     "traceback": [
      "\u001b[0;31m---------------------------------------------------------------------------\u001b[0m",
      "\u001b[0;31mImportError\u001b[0m                               Traceback (most recent call last)",
      "Input \u001b[0;32mIn [3]\u001b[0m, in \u001b[0;36m<cell line: 16>\u001b[0;34m()\u001b[0m\n\u001b[1;32m     13\u001b[0m \u001b[38;5;28;01mfrom\u001b[39;00m \u001b[38;5;21;01mnumpy\u001b[39;00m\u001b[38;5;21;01m.\u001b[39;00m\u001b[38;5;21;01mrandom\u001b[39;00m \u001b[38;5;28;01mimport\u001b[39;00m Generator, PCG64\n\u001b[1;32m     14\u001b[0m \u001b[38;5;28;01mimport\u001b[39;00m \u001b[38;5;21;01mpingouin\u001b[39;00m \u001b[38;5;28;01mas\u001b[39;00m \u001b[38;5;21;01mpg\u001b[39;00m\n\u001b[0;32m---> 16\u001b[0m \u001b[38;5;28;01mfrom\u001b[39;00m \u001b[38;5;21;01mdodiscover\u001b[39;00m\u001b[38;5;21;01m.\u001b[39;00m\u001b[38;5;21;01mci\u001b[39;00m \u001b[38;5;28;01mimport\u001b[39;00m CMITest\n\u001b[1;32m     18\u001b[0m \u001b[38;5;28;01mfrom\u001b[39;00m \u001b[38;5;21;01mcausal_networkx\u001b[39;00m \u001b[38;5;28;01mimport\u001b[39;00m DAG, StructuralCausalModel\n\u001b[1;32m     20\u001b[0m \u001b[38;5;28;01mfrom\u001b[39;00m \u001b[38;5;21;01mcausal_networkx\u001b[39;00m\u001b[38;5;21;01m.\u001b[39;00m\u001b[38;5;21;01mci\u001b[39;00m \u001b[38;5;28;01mimport\u001b[39;00m (\n\u001b[1;32m     21\u001b[0m     Oracle,\n\u001b[1;32m     22\u001b[0m     KernelCITest,\n\u001b[1;32m     23\u001b[0m )\n",
      "\u001b[0;31mImportError\u001b[0m: cannot import name 'CMITest' from 'dodiscover.ci' (/Users/adam2392/Documents/dodiscover/dodiscover/ci/__init__.py)"
     ]
    }
   ],
   "source": [
    "import os\n",
    "from pathlib import Path\n",
    "from pprint import pprint\n",
    "import json\n",
    "import collections\n",
    "from itertools import combinations, chain\n",
    "\n",
    "import numpy as np\n",
    "import bnlearn as bn\n",
    "import networkx as nx\n",
    "import pandas as pd\n",
    "from sklearn.metrics import roc_auc_score, precision_score, recall_score\n",
    "from numpy.random import Generator, PCG64\n",
    "import pingouin as pg\n",
    "\n",
    "from dodiscover.ci import CMITest\n",
    "\n",
    "from causal_networkx import DAG, StructuralCausalModel\n",
    "\n",
    "from causal_networkx.ci import (\n",
    "    Oracle,\n",
    "    KernelCITest,\n",
    ")\n",
    "\n",
    "from dodiscover.ci.simulate import nonlinear_additive_gaussian\n",
    "\n",
    "import matplotlib.pyplot as plt\n",
    "import seaborn as sns"
   ]
  },
  {
   "cell_type": "code",
   "execution_count": 6,
   "id": "42d21c18-2828-4fae-97b3-79178dd46dbe",
   "metadata": {},
   "outputs": [
    {
     "name": "stdout",
     "output_type": "stream",
     "text": [
      "[[[0.2 0.  0. ]\n",
      "  [0.5 0.  0. ]]\n",
      "\n",
      " [[0.  0.1 0. ]\n",
      "  [0.3 0.  0. ]]]\n",
      "(2, 2, 3)\n",
      "[[0.2 0.5]\n",
      " [0.  0.3]]\n",
      "[[0.  0. ]\n",
      " [0.1 0. ]]\n",
      "[[0. 0.]\n",
      " [0. 0.]]\n"
     ]
    }
   ],
   "source": [
    "graph = np.array(\n",
    "    [[[0.2, 0.0, 0.0], [0.5, 0.0, 0.0]], [[0.0, 0.1, 0.0], [0.3, 0.0, 0.0]]]\n",
    ")\n",
    "print(graph)\n",
    "print(graph.shape)\n",
    "print(graph[..., 0])\n",
    "print(graph[..., 1])\n",
    "print(graph[..., 2])"
   ]
  },
  {
   "cell_type": "markdown",
   "id": "a39595d0-eb1d-4e18-90b7-bd02fa00582a",
   "metadata": {},
   "source": [
    "## Work with a linear SCM"
   ]
  },
  {
   "cell_type": "code",
   "execution_count": 4,
   "id": "724b2899-f63a-41ea-bc1a-840d38d64b85",
   "metadata": {},
   "outputs": [],
   "source": [
    "seed = 12345\n",
    "rng = Generator(PCG64(seed))\n",
    "\n",
    "# func_uxy = rng.uniform\n",
    "func_uz = rng.normal\n",
    "func_ux = rng.normal\n",
    "func_uy = lambda: rng.normal()  # (scale=5.0)\n",
    "func_uw = lambda: rng.normal()  # (scale=1.0)\n",
    "\n",
    "xz_weight = 0.1\n",
    "xy_weight = 0.1\n",
    "wy_weight = 0.1\n",
    "\n",
    "func_z = lambda u_z: u_z\n",
    "func_x = lambda u_x, z: u_x + xz_weight * z\n",
    "func_y = lambda u_y, w, x: wy_weight * w + u_y + xy_weight * x\n",
    "func_w = lambda u_w: u_w\n",
    "\n",
    "scm = StructuralCausalModel(\n",
    "    exogenous={\n",
    "        \"u_x\": func_ux,\n",
    "        \"u_y\": func_uy,\n",
    "        \"u_z\": func_uz,\n",
    "        \"u_w\": func_uw,\n",
    "    },\n",
    "    endogenous={\"x\": func_x, \"z\": func_z, \"y\": func_y, \"w\": func_w},\n",
    ")"
   ]
  },
  {
   "cell_type": "code",
   "execution_count": 45,
   "id": "8d17704a-805f-4d9a-bd84-744df887d85b",
   "metadata": {},
   "outputs": [
    {
     "data": {
      "image/png": "[encoded data removed]",
      "text/plain": [
       "<Figure size 432x288 with 1 Axes>"
      ]
     },
     "metadata": {},
     "output_type": "display_data"
    }
   ],
   "source": [
    "scm.get_causal_graph().draw()"
   ]
  },
  {
   "cell_type": "code",
   "execution_count": 46,
   "id": "198d29fd-0892-435c-a9a2-2c4d8647febf",
   "metadata": {},
   "outputs": [
    {
     "data": {
      "text/html": [
       "<div>\n",
       "<style scoped>\n",
       "    .dataframe tbody tr th:only-of-type {\n",
       "        vertical-align: middle;\n",
       "    }\n",
       "\n",
       "    .dataframe tbody tr th {\n",
       "        vertical-align: top;\n",
       "    }\n",
       "\n",
       "    .dataframe thead th {\n",
       "        text-align: right;\n",
       "    }\n",
       "</style>\n",
       "<table border=\"1\" class=\"dataframe\">\n",
       "  <thead>\n",
       "    <tr style=\"text-align: right;\">\n",
       "      <th></th>\n",
       "      <th>z</th>\n",
       "      <th>x</th>\n",
       "      <th>w</th>\n",
       "      <th>y</th>\n",
       "      <th>noise_var</th>\n",
       "    </tr>\n",
       "  </thead>\n",
       "  <tbody>\n",
       "    <tr>\n",
       "      <th>0</th>\n",
       "      <td>-0.870662</td>\n",
       "      <td>-1.510891</td>\n",
       "      <td>-0.259173</td>\n",
       "      <td>1.086722</td>\n",
       "      <td>-0.834590</td>\n",
       "    </tr>\n",
       "    <tr>\n",
       "      <th>1</th>\n",
       "      <td>-1.367793</td>\n",
       "      <td>-0.212123</td>\n",
       "      <td>0.648893</td>\n",
       "      <td>-0.697208</td>\n",
       "      <td>0.248369</td>\n",
       "    </tr>\n",
       "    <tr>\n",
       "      <th>2</th>\n",
       "      <td>2.347410</td>\n",
       "      <td>0.595799</td>\n",
       "      <td>0.968497</td>\n",
       "      <td>-1.796433</td>\n",
       "      <td>-0.415533</td>\n",
       "    </tr>\n",
       "    <tr>\n",
       "      <th>3</th>\n",
       "      <td>-0.466953</td>\n",
       "      <td>-0.806082</td>\n",
       "      <td>-0.060690</td>\n",
       "      <td>0.815521</td>\n",
       "      <td>0.335198</td>\n",
       "    </tr>\n",
       "    <tr>\n",
       "      <th>4</th>\n",
       "      <td>0.575858</td>\n",
       "      <td>0.846430</td>\n",
       "      <td>1.398979</td>\n",
       "      <td>-1.032127</td>\n",
       "      <td>-0.229660</td>\n",
       "    </tr>\n",
       "  </tbody>\n",
       "</table>\n",
       "</div>"
      ],
      "text/plain": [
       "          z         x         w         y  noise_var\n",
       "0 -0.870662 -1.510891 -0.259173  1.086722  -0.834590\n",
       "1 -1.367793 -0.212123  0.648893 -0.697208   0.248369\n",
       "2  2.347410  0.595799  0.968497 -1.796433  -0.415533\n",
       "3 -0.466953 -0.806082 -0.060690  0.815521   0.335198\n",
       "4  0.575858  0.846430  1.398979 -1.032127  -0.229660"
      ]
     },
     "metadata": {},
     "output_type": "display_data"
    }
   ],
   "source": [
    "n_samples = 5000\n",
    "df = scm.sample(n_samples, include_latents=False)\n",
    "df[\"noise_var\"] = rng.normal(size=(n_samples,))\n",
    "display(df.head())"
   ]
  },
  {
   "cell_type": "markdown",
   "id": "ec4fee6a-4f0f-4236-8897-5a646ad3ed79",
   "metadata": {},
   "source": [
    "## Try with Tigramite"
   ]
  },
  {
   "cell_type": "code",
   "execution_count": 35,
   "id": "7eb92c8c-23c2-425e-a84e-7cd91a568a54",
   "metadata": {},
   "outputs": [],
   "source": [
    "import tigramite\n",
    "from tigramite.independence_tests import CMIknn"
   ]
  },
  {
   "cell_type": "code",
   "execution_count": 51,
   "id": "3282f477-ce9c-421e-b5e4-8c41d56e1fac",
   "metadata": {},
   "outputs": [
    {
     "data": {
      "text/html": [
       "<div>\n",
       "<style scoped>\n",
       "    .dataframe tbody tr th:only-of-type {\n",
       "        vertical-align: middle;\n",
       "    }\n",
       "\n",
       "    .dataframe tbody tr th {\n",
       "        vertical-align: top;\n",
       "    }\n",
       "\n",
       "    .dataframe thead th {\n",
       "        text-align: right;\n",
       "    }\n",
       "</style>\n",
       "<table border=\"1\" class=\"dataframe\">\n",
       "  <thead>\n",
       "    <tr style=\"text-align: right;\">\n",
       "      <th></th>\n",
       "      <th>x</th>\n",
       "      <th>y</th>\n",
       "      <th>z</th>\n",
       "    </tr>\n",
       "  </thead>\n",
       "  <tbody>\n",
       "    <tr>\n",
       "      <th>0</th>\n",
       "      <td>-1.510891</td>\n",
       "      <td>1.086722</td>\n",
       "      <td>-0.870662</td>\n",
       "    </tr>\n",
       "    <tr>\n",
       "      <th>1</th>\n",
       "      <td>-0.212123</td>\n",
       "      <td>-0.697208</td>\n",
       "      <td>-1.367793</td>\n",
       "    </tr>\n",
       "    <tr>\n",
       "      <th>2</th>\n",
       "      <td>0.595799</td>\n",
       "      <td>-1.796433</td>\n",
       "      <td>2.347410</td>\n",
       "    </tr>\n",
       "    <tr>\n",
       "      <th>3</th>\n",
       "      <td>-0.806082</td>\n",
       "      <td>0.815521</td>\n",
       "      <td>-0.466953</td>\n",
       "    </tr>\n",
       "    <tr>\n",
       "      <th>4</th>\n",
       "      <td>0.846430</td>\n",
       "      <td>-1.032127</td>\n",
       "      <td>0.575858</td>\n",
       "    </tr>\n",
       "  </tbody>\n",
       "</table>\n",
       "</div>"
      ],
      "text/plain": [
       "          x         y         z\n",
       "0 -1.510891  1.086722 -0.870662\n",
       "1 -0.212123 -0.697208 -1.367793\n",
       "2  0.595799 -1.796433  2.347410\n",
       "3 -0.806082  0.815521 -0.466953\n",
       "4  0.846430 -1.032127  0.575858"
      ]
     },
     "metadata": {},
     "output_type": "display_data"
    }
   ],
   "source": [
    "df = df[[\"x\", \"y\", \"z\"]]\n",
    "display(df.head())"
   ]
  },
  {
   "cell_type": "code",
   "execution_count": null,
   "id": "0e8d3ad4-8202-429f-a5b0-e7c2c7730299",
   "metadata": {},
   "outputs": [
    {
     "name": "stdout",
     "output_type": "stream",
     "text": [
      "(3, 5000)\n",
      "0.003622249751248141\n"
     ]
    }
   ],
   "source": [
    "cmi_est = CMIknn()\n",
    "\n",
    "arr = df.to_numpy().T\n",
    "dim, T = arr.shape\n",
    "print(arr.shape)\n",
    "xyz = np.array([0, 1, 2])\n",
    "val = cmi_est.get_dependence_measure(arr, xyz)\n",
    "print(val)\n",
    "\n",
    "# xyz = np.array([0, 1, -1])\n",
    "# val = cmi_est.get_dependence_measure(arr, xyz)\n",
    "# print(val)\n",
    "\n",
    "if cmi_est.knn < 1:\n",
    "    knn_here = max(1, int(cmi_est.knn * T))\n",
    "else:\n",
    "    knn_here = max(1, int(cmi_est.knn))\n",
    "\n",
    "# print(knn_here)\n",
    "\n",
    "k_xz, k_yz, k_z = cmi_est._get_nearest_neighbors(array=arr, xyz=xyz, knn=knn_here)\n",
    "\n",
    "pval, null_dist = cmi_est.get_shuffle_significance(arr, xyz, val, return_null_dist=True)\n",
    "\n",
    "print(pval)\n",
    "\n",
    "sns.displot(null_dist)"
   ]
  },
  {
   "cell_type": "markdown",
   "id": "efe67ac7-e368-4fc2-b3b5-00507c0fcc89",
   "metadata": {
    "tags": []
   },
   "source": [
    "## With Dodiscover"
   ]
  },
  {
   "cell_type": "code",
   "execution_count": 47,
   "id": "2b5d3973-b217-442d-940d-4952db6412b8",
   "metadata": {},
   "outputs": [],
   "source": [
    "cmi_est = CMITest(k=5, n_shuffle_nbrs=10)"
   ]
  },
  {
   "cell_type": "code",
   "execution_count": 109,
   "id": "67a97fce-6f32-4ccf-9e63-299a2e79d41a",
   "metadata": {},
   "outputs": [
    {
     "data": {
      "text/html": [
       "<div>\n",
       "<style scoped>\n",
       "    .dataframe tbody tr th:only-of-type {\n",
       "        vertical-align: middle;\n",
       "    }\n",
       "\n",
       "    .dataframe tbody tr th {\n",
       "        vertical-align: top;\n",
       "    }\n",
       "\n",
       "    .dataframe thead th {\n",
       "        text-align: right;\n",
       "    }\n",
       "</style>\n",
       "<table border=\"1\" class=\"dataframe\">\n",
       "  <thead>\n",
       "    <tr style=\"text-align: right;\">\n",
       "      <th></th>\n",
       "      <th>z</th>\n",
       "      <th>x</th>\n",
       "      <th>w</th>\n",
       "      <th>y</th>\n",
       "      <th>noise_var</th>\n",
       "    </tr>\n",
       "  </thead>\n",
       "  <tbody>\n",
       "    <tr>\n",
       "      <th>0</th>\n",
       "      <td>3744.0</td>\n",
       "      <td>3246.0</td>\n",
       "      <td>6185.0</td>\n",
       "      <td>1740.0</td>\n",
       "      <td>2393.0</td>\n",
       "    </tr>\n",
       "    <tr>\n",
       "      <th>1</th>\n",
       "      <td>6878.0</td>\n",
       "      <td>3738.0</td>\n",
       "      <td>663.0</td>\n",
       "      <td>635.0</td>\n",
       "      <td>4983.0</td>\n",
       "    </tr>\n",
       "    <tr>\n",
       "      <th>2</th>\n",
       "      <td>1024.0</td>\n",
       "      <td>7614.0</td>\n",
       "      <td>3934.0</td>\n",
       "      <td>199.0</td>\n",
       "      <td>4484.0</td>\n",
       "    </tr>\n",
       "    <tr>\n",
       "      <th>3</th>\n",
       "      <td>2366.0</td>\n",
       "      <td>7416.0</td>\n",
       "      <td>3936.0</td>\n",
       "      <td>3442.0</td>\n",
       "      <td>168.0</td>\n",
       "    </tr>\n",
       "    <tr>\n",
       "      <th>4</th>\n",
       "      <td>640.0</td>\n",
       "      <td>1390.0</td>\n",
       "      <td>9784.0</td>\n",
       "      <td>8208.0</td>\n",
       "      <td>2098.0</td>\n",
       "    </tr>\n",
       "  </tbody>\n",
       "</table>\n",
       "</div>"
      ],
      "text/plain": [
       "        z       x       w       y  noise_var\n",
       "0  3744.0  3246.0  6185.0  1740.0     2393.0\n",
       "1  6878.0  3738.0   663.0   635.0     4983.0\n",
       "2  1024.0  7614.0  3934.0   199.0     4484.0\n",
       "3  2366.0  7416.0  3936.0  3442.0      168.0\n",
       "4   640.0  1390.0  9784.0  8208.0     2098.0"
      ]
     },
     "metadata": {},
     "output_type": "display_data"
    }
   ],
   "source": [
    "data = df.copy()\n",
    "n_samples, n_dims = data.shape\n",
    "\n",
    "# add minor noise to make sure there are no ties\n",
    "random_noise = rng.random((n_samples, n_dims))\n",
    "data += 1e-6 * random_noise @ data.std(axis=0).to_numpy().reshape(n_dims, 1)\n",
    "# display(data.head())\n",
    "\n",
    "data = data.rank(axis=0) - 1\n",
    "display(data.head())"
   ]
  },
  {
   "cell_type": "code",
   "execution_count": 83,
   "id": "732f3953-724c-4aa9-a397-c38efe72a627",
   "metadata": {},
   "outputs": [],
   "source": [
    "do_k_xz, do_k_yz, do_k_z = cmi_est_._get_knn(data, \"x\", \"y\", set())"
   ]
  },
  {
   "cell_type": "code",
   "execution_count": 86,
   "id": "53921ac9-fd4c-4a1a-9603-6576a480de1a",
   "metadata": {
    "tags": []
   },
   "outputs": [],
   "source": [
    "# compute the significance of the CMI value\n",
    "null_dist = cmi_est._estimate_null_dist(data, \"x\", \"y\", {\"z\"})"
   ]
  },
  {
   "cell_type": "code",
   "execution_count": 85,
   "id": "8c49858f-68d9-4a18-be8e-3e4f55e018bc",
   "metadata": {},
   "outputs": [
    {
     "name": "stdout",
     "output_type": "stream",
     "text": [
      "0.17093462666360493\n"
     ]
    }
   ],
   "source": [
    "# compute the estimate of the CMI\n",
    "val = cmi_est._compute_cmi(data, \"x\", \"y\", {\"z\"})\n",
    "print(val)"
   ]
  },
  {
   "cell_type": "code",
   "execution_count": 87,
   "id": "762b7331-612a-4de3-a86c-e4235ecfd7dc",
   "metadata": {},
   "outputs": [
    {
     "name": "stdout",
     "output_type": "stream",
     "text": [
      "(1000,)\n",
      "0.17093462666360493 0.0\n"
     ]
    },
    {
     "data": {
      "image/png": "[encoded data removed]",
      "text/plain": [
       "<Figure size 360x360 with 1 Axes>"
      ]
     },
     "metadata": {
      "needs_background": "light"
     },
     "output_type": "display_data"
    }
   ],
   "source": [
    "sns.displot(null_dist)\n",
    "print(null_dist.shape)\n",
    "\n",
    "# compute pvalue\n",
    "pvalue = (null_dist >= val).mean()\n",
    "print(val, pvalue)"
   ]
  },
  {
   "cell_type": "code",
   "execution_count": 80,
   "id": "473b4653-44e2-49a4-b94d-217493c63fd2",
   "metadata": {},
   "outputs": [
    {
     "name": "stdout",
     "output_type": "stream",
     "text": [
      "-0.2295729466226798\n"
     ]
    }
   ],
   "source": [
    "print(null_dist.mean())"
   ]
  },
  {
   "cell_type": "code",
   "execution_count": 49,
   "id": "afc00cf4-e73b-4f66-a2e4-399ef4a3a014",
   "metadata": {},
   "outputs": [
    {
     "data": {
      "text/html": [
       "<div>\n",
       "<style scoped>\n",
       "    .dataframe tbody tr th:only-of-type {\n",
       "        vertical-align: middle;\n",
       "    }\n",
       "\n",
       "    .dataframe tbody tr th {\n",
       "        vertical-align: top;\n",
       "    }\n",
       "\n",
       "    .dataframe thead th {\n",
       "        text-align: right;\n",
       "    }\n",
       "</style>\n",
       "<table border=\"1\" class=\"dataframe\">\n",
       "  <thead>\n",
       "    <tr style=\"text-align: right;\">\n",
       "      <th></th>\n",
       "      <th>z</th>\n",
       "      <th>x</th>\n",
       "      <th>w</th>\n",
       "      <th>y</th>\n",
       "      <th>noise_var</th>\n",
       "    </tr>\n",
       "  </thead>\n",
       "  <tbody>\n",
       "    <tr>\n",
       "      <th>0</th>\n",
       "      <td>-0.870662</td>\n",
       "      <td>-1.510891</td>\n",
       "      <td>-0.259173</td>\n",
       "      <td>1.086722</td>\n",
       "      <td>-0.834590</td>\n",
       "    </tr>\n",
       "    <tr>\n",
       "      <th>1</th>\n",
       "      <td>-1.367793</td>\n",
       "      <td>-0.212123</td>\n",
       "      <td>0.648893</td>\n",
       "      <td>-0.697208</td>\n",
       "      <td>0.248369</td>\n",
       "    </tr>\n",
       "    <tr>\n",
       "      <th>2</th>\n",
       "      <td>2.347410</td>\n",
       "      <td>0.595799</td>\n",
       "      <td>0.968497</td>\n",
       "      <td>-1.796433</td>\n",
       "      <td>-0.415533</td>\n",
       "    </tr>\n",
       "    <tr>\n",
       "      <th>3</th>\n",
       "      <td>-0.466953</td>\n",
       "      <td>-0.806082</td>\n",
       "      <td>-0.060690</td>\n",
       "      <td>0.815521</td>\n",
       "      <td>0.335198</td>\n",
       "    </tr>\n",
       "    <tr>\n",
       "      <th>4</th>\n",
       "      <td>0.575858</td>\n",
       "      <td>0.846430</td>\n",
       "      <td>1.398979</td>\n",
       "      <td>-1.032127</td>\n",
       "      <td>-0.229660</td>\n",
       "    </tr>\n",
       "  </tbody>\n",
       "</table>\n",
       "</div>"
      ],
      "text/plain": [
       "          z         x         w         y  noise_var\n",
       "0 -0.870662 -1.510891 -0.259173  1.086722  -0.834590\n",
       "1 -1.367793 -0.212123  0.648893 -0.697208   0.248369\n",
       "2  2.347410  0.595799  0.968497 -1.796433  -0.415533\n",
       "3 -0.466953 -0.806082 -0.060690  0.815521   0.335198\n",
       "4  0.575858  0.846430  1.398979 -1.032127  -0.229660"
      ]
     },
     "metadata": {},
     "output_type": "display_data"
    }
   ],
   "source": [
    "data = df.copy()\n",
    "\n",
    "display(data.head())"
   ]
  },
  {
   "cell_type": "code",
   "execution_count": 50,
   "id": "41c2e761-aa65-4ba0-96fc-6a535236658a",
   "metadata": {},
   "outputs": [
    {
     "name": "stdout",
     "output_type": "stream",
     "text": [
      "CMI estimate for X \\perp Y | {}:  0.0159178316934403\n",
      "CMI estimate for X \\perp Y | {z}:  0.01440012431879012\n",
      "CMI estimate for X \\perp Y | {w}:  0.009286282321393502\n",
      "CMI estimate for X \\perp Y | {noise_var}:  0.010371441974707851\n",
      "CMI estimate for X \\perp Y | {w, z, noise_var}:  -0.0017603427728243304\n"
     ]
    }
   ],
   "source": [
    "# compute the estimate of the CMI\n",
    "val = cmi_est._compute_cmi(data, \"x\", \"y\", set())\n",
    "print(r\"CMI estimate for X \\perp Y | {}: \", val)\n",
    "\n",
    "# compute the estimate of the CMI\n",
    "val = cmi_est._compute_cmi(data, \"x\", \"y\", {\"z\"})\n",
    "print(r\"CMI estimate for X \\perp Y | {z}: \", val)\n",
    "\n",
    "# compute the estimate of the CMI\n",
    "val = cmi_est._compute_cmi(data, \"x\", \"y\", {\"w\"})\n",
    "print(r\"CMI estimate for X \\perp Y | {w}: \", val)\n",
    "\n",
    "# compute the estimate of the CMI\n",
    "val = cmi_est._compute_cmi(data, \"x\", \"y\", {\"noise_var\"})\n",
    "print(r\"CMI estimate for X \\perp Y | {noise_var}: \", val)\n",
    "\n",
    "# compute the estimate of the CMI\n",
    "val = cmi_est._compute_cmi(data, \"x\", \"y\", {\"w\", \"noise_var\", \"z\"})\n",
    "print(r\"CMI estimate for X \\perp Y | {w, z, noise_var}: \", val)"
   ]
  },
  {
   "cell_type": "code",
   "execution_count": 130,
   "id": "24c2c289-2dc3-408c-85d7-5c7147faf3ce",
   "metadata": {},
   "outputs": [
    {
     "name": "stdout",
     "output_type": "stream",
     "text": [
      "CI estimate for X \\perp Y | {}:  0.00030317632384635473\n",
      "Ci estimate for X \\perp Y | {z}:  0.00014996543329592882\n",
      "Ci estimate for X \\perp Y | {w}:  0.38838419223141063\n",
      "Ci estimate for X \\perp Y | {noise_var}:  0.0002882658720682052\n",
      "Ci estimate for X \\perp Y | {w, z, noise_var}:  0.0001603625466857217\n"
     ]
    }
   ],
   "source": [
    "ci_est = \"fisherz\"\n",
    "ci_estimator = FisherZCITest()\n",
    "data = df.copy()\n",
    "\n",
    "# compute the estimate of the CMI\n",
    "_, val = ci_estimator.test(data, \"x\", \"y\", set())\n",
    "print(r\"CI estimate for X \\perp Y | {}: \", val)\n",
    "\n",
    "# compute the estimate of the CMI\n",
    "_, val = ci_estimator.test(data, \"x\", \"y\", {\"z\"})\n",
    "print(r\"Ci estimate for X \\perp Y | {z}: \", val)\n",
    "\n",
    "# compute the estimate of the CMI\n",
    "_, val = ci_estimator.test(data, \"x\", \"y\", {\"w\"})\n",
    "print(r\"Ci estimate for X \\perp Y | {w}: \", val)\n",
    "\n",
    "# compute the estimate of the CMI\n",
    "_, val = ci_estimator.test(data, \"x\", \"y\", {\"noise_var\"})\n",
    "print(r\"Ci estimate for X \\perp Y | {noise_var}: \", val)\n",
    "\n",
    "# compute the estimate of the CMI\n",
    "_, val = ci_estimator.test(data, \"x\", \"y\", {\"w\", \"noise_var\", \"z\"})\n",
    "print(r\"Ci estimate for X \\perp Y | {w, z, noise_var}: \", val)"
   ]
  },
  {
   "cell_type": "code",
   "execution_count": 20,
   "id": "f3138335-8a30-4257-a025-518c138ba67a",
   "metadata": {},
   "outputs": [
    {
     "data": {
      "text/html": [
       "<div>\n",
       "<style scoped>\n",
       "    .dataframe tbody tr th:only-of-type {\n",
       "        vertical-align: middle;\n",
       "    }\n",
       "\n",
       "    .dataframe tbody tr th {\n",
       "        vertical-align: top;\n",
       "    }\n",
       "\n",
       "    .dataframe thead th {\n",
       "        text-align: right;\n",
       "    }\n",
       "</style>\n",
       "<table border=\"1\" class=\"dataframe\">\n",
       "  <thead>\n",
       "    <tr style=\"text-align: right;\">\n",
       "      <th></th>\n",
       "      <th>z</th>\n",
       "      <th>x</th>\n",
       "      <th>w</th>\n",
       "      <th>y</th>\n",
       "      <th>noise_var</th>\n",
       "    </tr>\n",
       "  </thead>\n",
       "  <tbody>\n",
       "    <tr>\n",
       "      <th>0</th>\n",
       "      <td>-0.734725</td>\n",
       "      <td>0.889322</td>\n",
       "      <td>0.367746</td>\n",
       "      <td>1.856121</td>\n",
       "      <td>1.916435</td>\n",
       "    </tr>\n",
       "    <tr>\n",
       "      <th>1</th>\n",
       "      <td>2.309688</td>\n",
       "      <td>0.658690</td>\n",
       "      <td>0.644224</td>\n",
       "      <td>1.690991</td>\n",
       "      <td>-1.084692</td>\n",
       "    </tr>\n",
       "    <tr>\n",
       "      <th>2</th>\n",
       "      <td>1.667053</td>\n",
       "      <td>0.564517</td>\n",
       "      <td>0.825895</td>\n",
       "      <td>1.683689</td>\n",
       "      <td>-0.554238</td>\n",
       "    </tr>\n",
       "    <tr>\n",
       "      <th>3</th>\n",
       "      <td>0.557479</td>\n",
       "      <td>-0.196060</td>\n",
       "      <td>0.733319</td>\n",
       "      <td>-0.298586</td>\n",
       "      <td>-0.373313</td>\n",
       "    </tr>\n",
       "    <tr>\n",
       "      <th>4</th>\n",
       "      <td>-1.377411</td>\n",
       "      <td>-1.298313</td>\n",
       "      <td>0.738045</td>\n",
       "      <td>-2.287691</td>\n",
       "      <td>-0.218734</td>\n",
       "    </tr>\n",
       "  </tbody>\n",
       "</table>\n",
       "</div>"
      ],
      "text/plain": [
       "          z         x         w         y  noise_var\n",
       "0 -0.734725  0.889322  0.367746  1.856121   1.916435\n",
       "1  2.309688  0.658690  0.644224  1.690991  -1.084692\n",
       "2  1.667053  0.564517  0.825895  1.683689  -0.554238\n",
       "3  0.557479 -0.196060  0.733319 -0.298586  -0.373313\n",
       "4 -1.377411 -1.298313  0.738045 -2.287691  -0.218734"
      ]
     },
     "metadata": {},
     "output_type": "display_data"
    }
   ],
   "source": [
    "# preprocess the data\n",
    "df = cmi_est._preprocess_data(df)\n",
    "\n",
    "display(df.head())"
   ]
  },
  {
   "cell_type": "markdown",
   "id": "8f32a967-df26-4fc7-b050-6981f5e3eefd",
   "metadata": {},
   "source": [
    "## Work with a nonlinear SCM\n",
    "\n",
    "Instead of linear functionals, we're going to generate data of the form:\n",
    "\n",
    "$$Y = g(\\alpha X + \\sigma)$$\n",
    "\n",
    "where g(.) could be the cosine function. $\\alpha$ is a set of weights applied to X variable and $\\sigma$ is the standard noise deviation. This is known as a post-nonlinear additive noise model.\n",
    "\n",
    "- A -> X -> Y <- Z\n",
    "- X -> B\n",
    "- Y -> C"
   ]
  },
  {
   "cell_type": "code",
   "execution_count": 6,
   "id": "5ec4e4f4-b21b-4848-8542-f6ad6a4d41b6",
   "metadata": {},
   "outputs": [],
   "source": [
    "rng = np.random.RandomState(seed=12345)"
   ]
  },
  {
   "cell_type": "code",
   "execution_count": 7,
   "id": "19f68b58-a504-46cc-8a59-45ff1fa98dc4",
   "metadata": {},
   "outputs": [],
   "source": [
    "A, _, _ = nonlinear_additive_gaussian(\"ind\", n_samples=2000, random_state=rng)\n",
    "X, Y, Z = nonlinear_additive_gaussian(\"dep\", n_samples=2000, cause_var_x=A)\n",
    "B, C, _ = nonlinear_additive_gaussian(\n",
    "    \"ind\", n_samples=2000, cause_var_x=X, cause_var_y=Y\n",
    ")"
   ]
  },
  {
   "cell_type": "code",
   "execution_count": 8,
   "id": "92041165-b48e-4669-b828-c221074e4bd3",
   "metadata": {},
   "outputs": [],
   "source": [
    "cmi_est = CMITest(k=5, n_shuffle_nbrs=10)"
   ]
  },
  {
   "cell_type": "code",
   "execution_count": 9,
   "id": "e619bf9f-8377-4bce-bfc9-86c76a2c69db",
   "metadata": {},
   "outputs": [
    {
     "name": "stdout",
     "output_type": "stream",
     "text": [
      "(2000, 7)\n"
     ]
    },
    {
     "data": {
      "text/html": [
       "<div>\n",
       "<style scoped>\n",
       "    .dataframe tbody tr th:only-of-type {\n",
       "        vertical-align: middle;\n",
       "    }\n",
       "\n",
       "    .dataframe tbody tr th {\n",
       "        vertical-align: top;\n",
       "    }\n",
       "\n",
       "    .dataframe thead th {\n",
       "        text-align: right;\n",
       "    }\n",
       "</style>\n",
       "<table border=\"1\" class=\"dataframe\">\n",
       "  <thead>\n",
       "    <tr style=\"text-align: right;\">\n",
       "      <th></th>\n",
       "      <th>A</th>\n",
       "      <th>B</th>\n",
       "      <th>C</th>\n",
       "      <th>X</th>\n",
       "      <th>Y</th>\n",
       "      <th>Z</th>\n",
       "      <th>noise_var</th>\n",
       "    </tr>\n",
       "  </thead>\n",
       "  <tbody>\n",
       "    <tr>\n",
       "      <th>0</th>\n",
       "      <td>0.987531</td>\n",
       "      <td>0.999998</td>\n",
       "      <td>0.953980</td>\n",
       "      <td>0.223388</td>\n",
       "      <td>0.692955</td>\n",
       "      <td>0.047796</td>\n",
       "      <td>-0.739706</td>\n",
       "    </tr>\n",
       "    <tr>\n",
       "      <th>1</th>\n",
       "      <td>0.771501</td>\n",
       "      <td>0.748731</td>\n",
       "      <td>0.700218</td>\n",
       "      <td>0.573959</td>\n",
       "      <td>-0.817687</td>\n",
       "      <td>0.708755</td>\n",
       "      <td>0.003547</td>\n",
       "    </tr>\n",
       "    <tr>\n",
       "      <th>2</th>\n",
       "      <td>0.974732</td>\n",
       "      <td>0.486675</td>\n",
       "      <td>0.180524</td>\n",
       "      <td>-0.262933</td>\n",
       "      <td>0.600671</td>\n",
       "      <td>1.496310</td>\n",
       "      <td>-0.067964</td>\n",
       "    </tr>\n",
       "    <tr>\n",
       "      <th>3</th>\n",
       "      <td>0.998927</td>\n",
       "      <td>0.685610</td>\n",
       "      <td>0.982027</td>\n",
       "      <td>0.565926</td>\n",
       "      <td>-0.352200</td>\n",
       "      <td>1.495563</td>\n",
       "      <td>1.530593</td>\n",
       "    </tr>\n",
       "    <tr>\n",
       "      <th>4</th>\n",
       "      <td>0.811509</td>\n",
       "      <td>0.849899</td>\n",
       "      <td>0.707577</td>\n",
       "      <td>0.344316</td>\n",
       "      <td>-0.166188</td>\n",
       "      <td>1.521334</td>\n",
       "      <td>1.359842</td>\n",
       "    </tr>\n",
       "  </tbody>\n",
       "</table>\n",
       "</div>"
      ],
      "text/plain": [
       "          A         B         C         X         Y         Z  noise_var\n",
       "0  0.987531  0.999998  0.953980  0.223388  0.692955  0.047796  -0.739706\n",
       "1  0.771501  0.748731  0.700218  0.573959 -0.817687  0.708755   0.003547\n",
       "2  0.974732  0.486675  0.180524 -0.262933  0.600671  1.496310  -0.067964\n",
       "3  0.998927  0.685610  0.982027  0.565926 -0.352200  1.495563   1.530593\n",
       "4  0.811509  0.849899  0.707577  0.344316 -0.166188  1.521334   1.359842"
      ]
     },
     "metadata": {},
     "output_type": "display_data"
    }
   ],
   "source": [
    "df = pd.DataFrame(np.hstack((A, B, C, X, Y, Z)), columns=[\"A\", \"B\", \"C\", \"X\", \"Y\", \"Z\"])\n",
    "\n",
    "n_samples = 2000\n",
    "df[\"noise_var\"] = rng.normal(size=(n_samples,))\n",
    "print(df.shape)\n",
    "data = df\n",
    "\n",
    "display(df.head())"
   ]
  },
  {
   "cell_type": "code",
   "execution_count": 10,
   "id": "f2ce03e4-f470-4bf7-b09c-1da49e6d33ca",
   "metadata": {},
   "outputs": [
    {
     "name": "stdout",
     "output_type": "stream",
     "text": [
      "CMI estimate for X \\perp Y | {}:  0.12990598941248943\n",
      "CMI estimate for X \\perp Y | {Z}:  0.3944831785817051\n",
      "CMI estimate for X \\perp Y | {A}:  0.12174495469054647\n",
      "CMI estimate for X \\perp Y | {B}:  0.10742312676380661\n",
      "CMI estimate for X \\perp Y | {C}:  0.15905499765029374\n",
      "CMI estimate for X \\perp Y | {noise_var}:  0.1521971503642312\n"
     ]
    }
   ],
   "source": [
    "# compute the estimate of the CMI\n",
    "val = cmi_est._compute_cmi(data, \"X\", \"Y\", set())\n",
    "print(r\"CMI estimate for X \\perp Y | {}: \", val)\n",
    "\n",
    "# compute the estimate of the CMI\n",
    "val = cmi_est._compute_cmi(data[[\"X\", \"Y\", \"Z\"]], \"X\", \"Y\", {\"Z\"})\n",
    "print(r\"CMI estimate for X \\perp Y | {Z}: \", val)\n",
    "\n",
    "# compute the estimate of the CMI\n",
    "val = cmi_est._compute_cmi(data, \"X\", \"Y\", {\"A\"})\n",
    "print(r\"CMI estimate for X \\perp Y | {A}: \", val)\n",
    "\n",
    "# compute the estimate of the CMI\n",
    "val = cmi_est._compute_cmi(data, \"X\", \"Y\", {\"B\"})\n",
    "print(r\"CMI estimate for X \\perp Y | {B}: \", val)\n",
    "\n",
    "# compute the estimate of the CMI\n",
    "val = cmi_est._compute_cmi(data, \"X\", \"Y\", {\"C\"})\n",
    "print(r\"CMI estimate for X \\perp Y | {C}: \", val)\n",
    "\n",
    "# compute the estimate of the CMI\n",
    "val = cmi_est._compute_cmi(data, \"X\", \"Y\", {\"noise_var\"})\n",
    "print(r\"CMI estimate for X \\perp Y | {noise_var}: \", val)"
   ]
  },
  {
   "cell_type": "code",
   "execution_count": 41,
   "id": "608ac198-104d-43aa-a48f-be38686f345f",
   "metadata": {},
   "outputs": [
    {
     "name": "stdout",
     "output_type": "stream",
     "text": [
      "(3, 2000)\n",
      "0.13321043123014498\n"
     ]
    }
   ],
   "source": [
    "cmi_est_tig = CMIknn()\n",
    "\n",
    "arr = df[[\"X\", \"Y\", \"Z\"]].to_numpy().T\n",
    "dim, T = arr.shape\n",
    "print(arr.shape)\n",
    "xyz = np.array([0, 1, 2])\n",
    "val = cmi_est_tig.get_dependence_measure(arr, xyz)\n",
    "print(val)"
   ]
  },
  {
   "cell_type": "code",
   "execution_count": null,
   "id": "ea5cce17-a15e-4086-a62a-5f84eb2425c4",
   "metadata": {},
   "outputs": [],
   "source": [
    "# compute the estimate of the CMI\n",
    "val = cmi_est._compute_cmi(data, \"X\", \"Y\", set())\n",
    "print(r\"CMI estimate for X \\perp Y | {}: \", val)\n",
    "\n",
    "# compute the estimate of the CMI\n",
    "val = cmi_est._compute_cmi(data, \"X\", \"Y\", {\"Z\"})\n",
    "print(r\"CMI estimate for X \\perp Y | {Z}: \", val)\n",
    "\n",
    "# compute the estimate of the CMI\n",
    "val = cmi_est._compute_cmi(data, \"X\", \"Y\", {\"A\"})\n",
    "print(r\"CMI estimate for X \\perp Y | {A}: \", val)\n",
    "\n",
    "# compute the estimate of the CMI\n",
    "val = cmi_est._compute_cmi(data, \"X\", \"Y\", {\"B\"})\n",
    "print(r\"CMI estimate for X \\perp Y | {B}: \", val)\n",
    "\n",
    "# compute the estimate of the CMI\n",
    "val = cmi_est._compute_cmi(data, \"X\", \"Y\", {\"C\"})\n",
    "print(r\"CMI estimate for X \\perp Y | {C}: \", val)\n",
    "\n",
    "# compute the estimate of the CMI\n",
    "val = cmi_est._compute_cmi(data, \"X\", \"Y\", {\"noise_var\"})\n",
    "print(r\"CMI estimate for X \\perp Y | {noise_var}: \", val)"
   ]
  },
  {
   "cell_type": "code",
   "execution_count": 11,
   "id": "1474bdef-bb25-41dc-9942-d03fb62c75a2",
   "metadata": {},
   "outputs": [
    {
     "data": {
      "image/svg+xml": [
       "<?xml version=\"1.0\" encoding=\"UTF-8\" standalone=\"no\"?>\n",
       "<!DOCTYPE svg PUBLIC \"-//W3C//DTD SVG 1.1//EN\"\n",
       " \"http://www.w3.org/Graphics/SVG/1.1/DTD/svg11.dtd\">\n",
       "<!-- Generated by graphviz version 5.0.0 (20220707.1540)\n",
       " -->\n",
       "<!-- Pages: 1 -->\n",
       "<svg width=\"98pt\" height=\"260pt\"\n",
       " viewBox=\"0.00 0.00 98.00 260.00\" xmlns=\"http://www.w3.org/2000/svg\" xmlns:xlink=\"http://www.w3.org/1999/xlink\">\n",
       "<g id=\"graph0\" class=\"graph\" transform=\"scale(1 1) rotate(0) translate(4 256)\">\n",
       "<polygon fill=\"white\" stroke=\"transparent\" points=\"-4,4 -4,-256 94,-256 94,4 -4,4\"/>\n",
       "<!-- A -->\n",
       "<g id=\"node1\" class=\"node\">\n",
       "<title>A</title>\n",
       "<polygon fill=\"none\" stroke=\"black\" points=\"90,-252 54,-252 54,-216 90,-216 90,-252\"/>\n",
       "<text text-anchor=\"middle\" x=\"72\" y=\"-230.3\" font-family=\"Times,serif\" font-size=\"14.00\">A</text>\n",
       "</g>\n",
       "<!-- X -->\n",
       "<g id=\"node2\" class=\"node\">\n",
       "<title>X</title>\n",
       "<polygon fill=\"none\" stroke=\"black\" points=\"90,-180 54,-180 54,-144 90,-144 90,-180\"/>\n",
       "<text text-anchor=\"middle\" x=\"72\" y=\"-158.3\" font-family=\"Times,serif\" font-size=\"14.00\">X</text>\n",
       "</g>\n",
       "<!-- A&#45;&gt;X -->\n",
       "<g id=\"edge1\" class=\"edge\">\n",
       "<title>A&#45;&gt;X</title>\n",
       "<path fill=\"none\" stroke=\"blue\" d=\"M72,-215.7C72,-207.98 72,-198.71 72,-190.11\"/>\n",
       "<polygon fill=\"blue\" stroke=\"blue\" points=\"75.5,-190.1 72,-180.1 68.5,-190.1 75.5,-190.1\"/>\n",
       "</g>\n",
       "<!-- Y -->\n",
       "<g id=\"node3\" class=\"node\">\n",
       "<title>Y</title>\n",
       "<polygon fill=\"none\" stroke=\"black\" points=\"36,-108 0,-108 0,-72 36,-72 36,-108\"/>\n",
       "<text text-anchor=\"middle\" x=\"18\" y=\"-86.3\" font-family=\"Times,serif\" font-size=\"14.00\">Y</text>\n",
       "</g>\n",
       "<!-- X&#45;&gt;Y -->\n",
       "<g id=\"edge2\" class=\"edge\">\n",
       "<title>X&#45;&gt;Y</title>\n",
       "<path fill=\"none\" stroke=\"blue\" d=\"M58.65,-143.7C52.24,-135.39 44.44,-125.28 37.39,-116.14\"/>\n",
       "<polygon fill=\"blue\" stroke=\"blue\" points=\"40.07,-113.88 31.19,-108.1 34.53,-118.16 40.07,-113.88\"/>\n",
       "</g>\n",
       "<!-- B -->\n",
       "<g id=\"node5\" class=\"node\">\n",
       "<title>B</title>\n",
       "<polygon fill=\"none\" stroke=\"black\" points=\"90,-108 54,-108 54,-72 90,-72 90,-108\"/>\n",
       "<text text-anchor=\"middle\" x=\"72\" y=\"-86.3\" font-family=\"Times,serif\" font-size=\"14.00\">B</text>\n",
       "</g>\n",
       "<!-- X&#45;&gt;B -->\n",
       "<g id=\"edge4\" class=\"edge\">\n",
       "<title>X&#45;&gt;B</title>\n",
       "<path fill=\"none\" stroke=\"blue\" d=\"M72,-143.7C72,-135.98 72,-126.71 72,-118.11\"/>\n",
       "<polygon fill=\"blue\" stroke=\"blue\" points=\"75.5,-118.1 72,-108.1 68.5,-118.1 75.5,-118.1\"/>\n",
       "</g>\n",
       "<!-- C -->\n",
       "<g id=\"node6\" class=\"node\">\n",
       "<title>C</title>\n",
       "<polygon fill=\"none\" stroke=\"black\" points=\"36,-36 0,-36 0,0 36,0 36,-36\"/>\n",
       "<text text-anchor=\"middle\" x=\"18\" y=\"-14.3\" font-family=\"Times,serif\" font-size=\"14.00\">C</text>\n",
       "</g>\n",
       "<!-- Y&#45;&gt;C -->\n",
       "<g id=\"edge5\" class=\"edge\">\n",
       "<title>Y&#45;&gt;C</title>\n",
       "<path fill=\"none\" stroke=\"blue\" d=\"M18,-71.7C18,-63.98 18,-54.71 18,-46.11\"/>\n",
       "<polygon fill=\"blue\" stroke=\"blue\" points=\"21.5,-46.1 18,-36.1 14.5,-46.1 21.5,-46.1\"/>\n",
       "</g>\n",
       "<!-- Z -->\n",
       "<g id=\"node4\" class=\"node\">\n",
       "<title>Z</title>\n",
       "<polygon fill=\"none\" stroke=\"black\" points=\"36,-180 0,-180 0,-144 36,-144 36,-180\"/>\n",
       "<text text-anchor=\"middle\" x=\"18\" y=\"-158.3\" font-family=\"Times,serif\" font-size=\"14.00\">Z</text>\n",
       "</g>\n",
       "<!-- Z&#45;&gt;Y -->\n",
       "<g id=\"edge3\" class=\"edge\">\n",
       "<title>Z&#45;&gt;Y</title>\n",
       "<path fill=\"none\" stroke=\"blue\" d=\"M18,-143.7C18,-135.98 18,-126.71 18,-118.11\"/>\n",
       "<polygon fill=\"blue\" stroke=\"blue\" points=\"21.5,-118.1 18,-108.1 14.5,-118.1 21.5,-118.1\"/>\n",
       "</g>\n",
       "</g>\n",
       "</svg>\n"
      ],
      "text/plain": [
       "<graphviz.graphs.Digraph at 0x17c263ac0>"
      ]
     },
     "execution_count": 11,
     "metadata": {},
     "output_type": "execute_result"
    }
   ],
   "source": [
    "dag = DAG()\n",
    "dag.add_edge(\"A\", \"X\")\n",
    "dag.add_edge(\"X\", \"Y\")\n",
    "dag.add_edge(\"X\", \"B\")\n",
    "dag.add_edge(\"Y\", \"C\")\n",
    "dag.add_edge(\"Z\", \"Y\")\n",
    "dag.draw()"
   ]
  },
  {
   "cell_type": "markdown",
   "id": "9e154429-bb2f-495d-a071-8624e8d5d066",
   "metadata": {},
   "source": [
    "# Analyze CMI phenomena in large-scale experiment\n",
    "\n",
    "Modify variations of runs for each parametrizations of nonlinear functional:\n",
    "\n",
    "- functional: cosine, exp, log, sine\n",
    "- dims_z : 1 to 100 in steps of 2\n",
    "- std: 0.1 to 3.0 in steps of 0.2"
   ]
  },
  {
   "cell_type": "code",
   "execution_count": 4,
   "id": "61a5970e-77c9-49f7-aafe-aeea0aa8398e",
   "metadata": {},
   "outputs": [
    {
     "data": {
      "image/png": "[encoded data removed]",
      "text/plain": [
       "<Figure size 432x288 with 1 Axes>"
      ]
     },
     "metadata": {},
     "output_type": "display_data"
    }
   ],
   "source": [
    "dag = nx.DiGraph()\n",
    "dag.add_edge(\"A\", \"X\")\n",
    "dag.add_edge(\"X\", \"Y\")\n",
    "dag.add_edge(\"X\", \"B\")\n",
    "dag.add_edge(\"Y\", \"C\")\n",
    "dag.add_edge(\"Z\", \"Y\")\n",
    "nx.draw(dag, with_labels=True)"
   ]
  },
  {
   "cell_type": "markdown",
   "id": "13a7aee4-3fac-4f69-bc9f-258564fda965",
   "metadata": {},
   "source": [
    "Assume z->y is known\n",
    "\n",
    "Assuming there is now a dependency with y (y->* or *->y)\n",
    "- Say x->y is weak and we see x \\perp y\n",
    "    - we can retest with x \\perp y | z, and if there is truly an edge, then we should see an amplification\n",
    "- Say y->c is weak, and we see c \\perp y\n",
    "    - when we retest with c \\perp y | z, there wouldn't be a change (perhaps even more \"independent\")\n",
    "    \n",
    "Note in this setting: perhaps, we mark it as \"weak\" to prevent adding too many nodes to the conditioning set (e.g. in PC algo).\n",
    "\n",
    "Also think about what happens if * is independent to y\n",
    "\n",
    "Note: if we test B \\perp Y and that is weak, we still want to be able to discover B \\perp Y | X (later on)"
   ]
  },
  {
   "cell_type": "code",
   "execution_count": 5,
   "id": "07478d89-ad6b-4ff1-8e69-959ad294c552",
   "metadata": {},
   "outputs": [],
   "source": [
    "nonlinear_funcs = [np.cos, np.exp, np.sin]\n",
    "dims_zs = np.arange(1, 4, 2)\n",
    "stds = np.arange(0.1, 1.5, 0.2)\n",
    "n_samples = 1000"
   ]
  },
  {
   "cell_type": "code",
   "execution_count": 6,
   "id": "93ce6f54-b8aa-4292-b22a-9ce73107312e",
   "metadata": {},
   "outputs": [],
   "source": [
    "rng = np.random.default_rng()\n",
    "seed = 12345\n",
    "n_repeats = 5"
   ]
  },
  {
   "cell_type": "code",
   "execution_count": 7,
   "id": "d42fe841-1781-412d-bf1b-ff5603252151",
   "metadata": {},
   "outputs": [],
   "source": [
    "def evaluate_cmi(data):\n",
    "    result_dict = collections.defaultdict(list)\n",
    "    cmi_est = CMITest(k=5, n_shuffle_nbrs=10)\n",
    "\n",
    "    if \"Z\" in data.columns:\n",
    "        z_covariates = {\"Z\"}\n",
    "    else:\n",
    "        z_covariates = {col for col in data.columns if col.startswith(\"Z_\")}\n",
    "\n",
    "    # compute the estimate of the CMI\n",
    "    val = cmi_est._compute_cmi(data, \"X\", \"Y\", set())\n",
    "    result_dict[\"cmi_null\"].append(val)\n",
    "\n",
    "    # compute the estimate of the CMI\n",
    "    val = cmi_est._compute_cmi(data, \"X\", \"Y\", z_covariates)\n",
    "    result_dict[\"cmi_z\"].append(val)\n",
    "\n",
    "    # compute the estimate of the CMI\n",
    "    val = cmi_est._compute_cmi(data, \"X\", \"Y\", {\"A\"})\n",
    "    result_dict[\"cmi_a\"].append(val)\n",
    "\n",
    "    # compute the estimate of the CMI\n",
    "    val = cmi_est._compute_cmi(data, \"X\", \"Y\", {\"B\"})\n",
    "    result_dict[\"cmi_b\"].append(val)\n",
    "\n",
    "    # compute the estimate of the CMI\n",
    "    val = cmi_est._compute_cmi(data, \"X\", \"Y\", {\"C\"})\n",
    "    result_dict[\"cmi_c\"].append(val)\n",
    "\n",
    "    # compute the estimate of the CMI\n",
    "    val = cmi_est._compute_cmi(data, \"X\", \"Y\", {\"noise_var\"})\n",
    "    result_dict[\"cmi_noise_var\"].append(val)\n",
    "\n",
    "    # create resulting dataframe\n",
    "    result_df = pd.DataFrame.from_dict(result_dict)\n",
    "    return result_df"
   ]
  },
  {
   "cell_type": "code",
   "execution_count": 8,
   "id": "5291ebfc-afb3-4a06-91f9-df4f3f346ed6",
   "metadata": {},
   "outputs": [
    {
     "name": "stdout",
     "output_type": "stream",
     "text": [
      "<ufunc 'sin'> 0.1 1\n",
      "41\n",
      "<ufunc 'sin'> 1.3000000000000003 3\n"
     ]
    }
   ],
   "source": [
    "jdx = -1\n",
    "for dims_z in dims_zs:\n",
    "    for nonlinear_func in nonlinear_funcs:\n",
    "        for std in stds:\n",
    "            jdx += 1\n",
    "\n",
    "            if jdx == 14:\n",
    "                print(\n",
    "                    nonlinear_func,\n",
    "                    std,\n",
    "                    dims_z,\n",
    "                )\n",
    "\n",
    "print(jdx)\n",
    "print(\n",
    "    nonlinear_func,\n",
    "    std,\n",
    "    dims_z,\n",
    ")"
   ]
  },
  {
   "cell_type": "code",
   "execution_count": null,
   "id": "87a87f16-2769-4a91-b39e-8f381332364f",
   "metadata": {},
   "outputs": [],
   "source": [
    "overall_res_df = pd.DataFrame()\n",
    "jdx = -1\n",
    "\n",
    "for nonlinear_func in nonlinear_funcs:\n",
    "    for dims_z in dims_zs:\n",
    "        for std in stds:\n",
    "            overall_res_df = pd.DataFrame()\n",
    "\n",
    "            jdx += 1\n",
    "            # if jdx < 14:\n",
    "            #     continue\n",
    "\n",
    "            for idx in range(n_repeats):\n",
    "                seed += idx\n",
    "                # generate A as independent\n",
    "                A, _, _ = nonlinear_additive_gaussian(\n",
    "                    \"ind\",\n",
    "                    n_samples=n_samples,\n",
    "                    random_state=seed,\n",
    "                    nonlinear_func=nonlinear_func,\n",
    "                    dims_z=dims_z,\n",
    "                    std=std,\n",
    "                )\n",
    "\n",
    "                # A -> X -> Y <- Z\n",
    "                X, Y, Z = nonlinear_additive_gaussian(\n",
    "                    \"dep\",\n",
    "                    n_samples=n_samples,\n",
    "                    cause_var_x=A,\n",
    "                    random_state=seed,\n",
    "                    nonlinear_func=nonlinear_func,\n",
    "                    dims_z=dims_z,\n",
    "                    std=std,\n",
    "                )\n",
    "                # X -> B; Y -> C\n",
    "                B, C, _ = nonlinear_additive_gaussian(\n",
    "                    \"ind\",\n",
    "                    n_samples=n_samples,\n",
    "                    cause_var_x=X,\n",
    "                    cause_var_y=Y,\n",
    "                    random_state=seed,\n",
    "                    nonlinear_func=nonlinear_func,\n",
    "                    dims_z=dims_z,\n",
    "                    std=std,\n",
    "                )\n",
    "\n",
    "                df = pd.DataFrame()\n",
    "                for col_name, arr in zip(\n",
    "                    [\"A\", \"B\", \"C\", \"X\", \"Y\", \"Z\"], [A, B, C, X, Y, Z]\n",
    "                ):\n",
    "                    columns = [f\"{col_name}_{idx}\" for idx in range(arr.shape[1])]\n",
    "                    if len(columns) == 1:\n",
    "                        columns = [col_name]\n",
    "                    _df = pd.DataFrame(arr, columns=columns)\n",
    "                    df = pd.concat((df, _df), axis=1)\n",
    "                df[\"noise_var\"] = rng.normal(size=(n_samples,))\n",
    "\n",
    "                result_df = evaluate_cmi(df)\n",
    "                result_df[\"nonlinear_func\"] = nonlinear_func.__name__\n",
    "                result_df[\"dims_z\"] = dims_z\n",
    "                result_df[\"std\"] = std\n",
    "                result_df[\"idx\"] = idx\n",
    "\n",
    "                overall_res_df = pd.concat((overall_res_df, result_df), axis=0)\n",
    "\n",
    "            fname = f\"~/Downloads/cmi_results/cmi_{jdx}.csv\"\n",
    "            overall_res_df.to_csv(fname)\n",
    "            # jdx += 1\n",
    "    #         break\n",
    "    #     break\n",
    "    # break"
   ]
  },
  {
   "cell_type": "code",
   "execution_count": null,
   "id": "fe783e3c-d695-4c50-b83e-46acffa47f09",
   "metadata": {},
   "outputs": [],
   "source": [
    "# print(X.shape, Y.shape, Z.shape, B.shape, C.shape, A.shape)\n",
    "print(nonlinear_func.__name__)"
   ]
  },
  {
   "cell_type": "code",
   "execution_count": null,
   "id": "3c81884f-6d2c-49b4-9fff-18da80a30d26",
   "metadata": {},
   "outputs": [],
   "source": [
    "display(df.head())\n",
    "display(result_df)"
   ]
  },
  {
   "cell_type": "code",
   "execution_count": 11,
   "id": "273b1ecc-ac0c-4d2b-a0b1-0c05e7a50856",
   "metadata": {},
   "outputs": [
    {
     "name": "stdout",
     "output_type": "stream",
     "text": [
      "done\n"
     ]
    }
   ],
   "source": [
    "print(\"done\")"
   ]
  },
  {
   "cell_type": "markdown",
   "id": "83b39b26-bdf4-463a-89df-d95d58e95f4e",
   "metadata": {},
   "source": [
    "## Analyze Results"
   ]
  },
  {
   "cell_type": "code",
   "execution_count": 49,
   "id": "8e370984-276e-42eb-88fd-2819091691e9",
   "metadata": {},
   "outputs": [
    {
     "data": {
      "text/html": [
       "<div>\n",
       "<style scoped>\n",
       "    .dataframe tbody tr th:only-of-type {\n",
       "        vertical-align: middle;\n",
       "    }\n",
       "\n",
       "    .dataframe tbody tr th {\n",
       "        vertical-align: top;\n",
       "    }\n",
       "\n",
       "    .dataframe thead th {\n",
       "        text-align: right;\n",
       "    }\n",
       "</style>\n",
       "<table border=\"1\" class=\"dataframe\">\n",
       "  <thead>\n",
       "    <tr style=\"text-align: right;\">\n",
       "      <th></th>\n",
       "      <th>cmi_null</th>\n",
       "      <th>cmi_z</th>\n",
       "      <th>cmi_a</th>\n",
       "      <th>cmi_b</th>\n",
       "      <th>cmi_c</th>\n",
       "      <th>cmi_noise_var</th>\n",
       "      <th>nonlinear_func</th>\n",
       "      <th>dims_z</th>\n",
       "      <th>std</th>\n",
       "      <th>idx</th>\n",
       "      <th>index</th>\n",
       "    </tr>\n",
       "  </thead>\n",
       "  <tbody>\n",
       "    <tr>\n",
       "      <th>0</th>\n",
       "      <td>3.358421</td>\n",
       "      <td>0.187708</td>\n",
       "      <td>0.169396</td>\n",
       "      <td>0.248679</td>\n",
       "      <td>1.286994</td>\n",
       "      <td>0.177218</td>\n",
       "      <td>square</td>\n",
       "      <td>3</td>\n",
       "      <td>1.1</td>\n",
       "      <td>0</td>\n",
       "      <td>0</td>\n",
       "    </tr>\n",
       "    <tr>\n",
       "      <th>0</th>\n",
       "      <td>3.890996</td>\n",
       "      <td>0.169368</td>\n",
       "      <td>0.150955</td>\n",
       "      <td>0.146168</td>\n",
       "      <td>1.176894</td>\n",
       "      <td>0.165677</td>\n",
       "      <td>square</td>\n",
       "      <td>3</td>\n",
       "      <td>1.1</td>\n",
       "      <td>1</td>\n",
       "      <td>1</td>\n",
       "    </tr>\n",
       "    <tr>\n",
       "      <th>0</th>\n",
       "      <td>3.309778</td>\n",
       "      <td>0.169918</td>\n",
       "      <td>0.165958</td>\n",
       "      <td>0.220249</td>\n",
       "      <td>1.315435</td>\n",
       "      <td>0.183287</td>\n",
       "      <td>square</td>\n",
       "      <td>3</td>\n",
       "      <td>1.1</td>\n",
       "      <td>2</td>\n",
       "      <td>2</td>\n",
       "    </tr>\n",
       "    <tr>\n",
       "      <th>0</th>\n",
       "      <td>3.236810</td>\n",
       "      <td>0.166685</td>\n",
       "      <td>0.173266</td>\n",
       "      <td>0.215667</td>\n",
       "      <td>1.347852</td>\n",
       "      <td>0.180872</td>\n",
       "      <td>square</td>\n",
       "      <td>3</td>\n",
       "      <td>1.1</td>\n",
       "      <td>3</td>\n",
       "      <td>3</td>\n",
       "    </tr>\n",
       "    <tr>\n",
       "      <th>0</th>\n",
       "      <td>2.377152</td>\n",
       "      <td>0.254809</td>\n",
       "      <td>0.221056</td>\n",
       "      <td>0.234956</td>\n",
       "      <td>1.406766</td>\n",
       "      <td>0.276586</td>\n",
       "      <td>square</td>\n",
       "      <td>3</td>\n",
       "      <td>1.1</td>\n",
       "      <td>4</td>\n",
       "      <td>4</td>\n",
       "    </tr>\n",
       "  </tbody>\n",
       "</table>\n",
       "</div>"
      ],
      "text/plain": [
       "   cmi_null     cmi_z     cmi_a     cmi_b     cmi_c  cmi_noise_var  \\\n",
       "0  3.358421  0.187708  0.169396  0.248679  1.286994       0.177218   \n",
       "0  3.890996  0.169368  0.150955  0.146168  1.176894       0.165677   \n",
       "0  3.309778  0.169918  0.165958  0.220249  1.315435       0.183287   \n",
       "0  3.236810  0.166685  0.173266  0.215667  1.347852       0.180872   \n",
       "0  2.377152  0.254809  0.221056  0.234956  1.406766       0.276586   \n",
       "\n",
       "  nonlinear_func  dims_z  std  idx  index  \n",
       "0         square       3  1.1    0      0  \n",
       "0         square       3  1.1    1      1  \n",
       "0         square       3  1.1    2      2  \n",
       "0         square       3  1.1    3      3  \n",
       "0         square       3  1.1    4      4  "
      ]
     },
     "metadata": {},
     "output_type": "display_data"
    },
    {
     "name": "stdout",
     "output_type": "stream",
     "text": [
      "(1260, 11)\n"
     ]
    }
   ],
   "source": [
    "data_dir = Path(\"/Users/adam2392/Downloads/cmi_results/\")\n",
    "\n",
    "df = pd.DataFrame()\n",
    "for fname in data_dir.glob(\"*.csv\"):\n",
    "    # print(fname)\n",
    "    df_ = pd.read_csv(fname, index_col=0)\n",
    "\n",
    "    df = pd.concat((df, df_), axis=0)\n",
    "\n",
    "df[\"index\"] = df.reset_index().index\n",
    "\n",
    "display(df.head())\n",
    "print(df.shape)"
   ]
  },
  {
   "cell_type": "code",
   "execution_count": 63,
   "id": "f3dcc5fc-adad-4333-b266-d665090a5f19",
   "metadata": {},
   "outputs": [
    {
     "data": {
      "text/html": [
       "<div>\n",
       "<style scoped>\n",
       "    .dataframe tbody tr th:only-of-type {\n",
       "        vertical-align: middle;\n",
       "    }\n",
       "\n",
       "    .dataframe tbody tr th {\n",
       "        vertical-align: top;\n",
       "    }\n",
       "\n",
       "    .dataframe thead th {\n",
       "        text-align: right;\n",
       "    }\n",
       "</style>\n",
       "<table border=\"1\" class=\"dataframe\">\n",
       "  <thead>\n",
       "    <tr style=\"text-align: right;\">\n",
       "      <th></th>\n",
       "      <th>index</th>\n",
       "      <th>nonlinear_func</th>\n",
       "      <th>dims_z</th>\n",
       "      <th>std</th>\n",
       "      <th>type</th>\n",
       "      <th>cmi</th>\n",
       "    </tr>\n",
       "  </thead>\n",
       "  <tbody>\n",
       "    <tr>\n",
       "      <th>5</th>\n",
       "      <td>5</td>\n",
       "      <td>sin</td>\n",
       "      <td>5</td>\n",
       "      <td>1.3</td>\n",
       "      <td>cmi_null</td>\n",
       "      <td>0.036175</td>\n",
       "    </tr>\n",
       "    <tr>\n",
       "      <th>6</th>\n",
       "      <td>6</td>\n",
       "      <td>sin</td>\n",
       "      <td>5</td>\n",
       "      <td>1.3</td>\n",
       "      <td>cmi_null</td>\n",
       "      <td>0.043613</td>\n",
       "    </tr>\n",
       "    <tr>\n",
       "      <th>7</th>\n",
       "      <td>7</td>\n",
       "      <td>sin</td>\n",
       "      <td>5</td>\n",
       "      <td>1.3</td>\n",
       "      <td>cmi_null</td>\n",
       "      <td>0.043067</td>\n",
       "    </tr>\n",
       "    <tr>\n",
       "      <th>8</th>\n",
       "      <td>8</td>\n",
       "      <td>sin</td>\n",
       "      <td>5</td>\n",
       "      <td>1.3</td>\n",
       "      <td>cmi_null</td>\n",
       "      <td>0.038393</td>\n",
       "    </tr>\n",
       "    <tr>\n",
       "      <th>9</th>\n",
       "      <td>9</td>\n",
       "      <td>sin</td>\n",
       "      <td>5</td>\n",
       "      <td>1.3</td>\n",
       "      <td>cmi_null</td>\n",
       "      <td>0.034626</td>\n",
       "    </tr>\n",
       "  </tbody>\n",
       "</table>\n",
       "</div>"
      ],
      "text/plain": [
       "   index nonlinear_func  dims_z  std      type       cmi\n",
       "5      5            sin       5  1.3  cmi_null  0.036175\n",
       "6      6            sin       5  1.3  cmi_null  0.043613\n",
       "7      7            sin       5  1.3  cmi_null  0.043067\n",
       "8      8            sin       5  1.3  cmi_null  0.038393\n",
       "9      9            sin       5  1.3  cmi_null  0.034626"
      ]
     },
     "metadata": {},
     "output_type": "display_data"
    }
   ],
   "source": [
    "plotdf = pd.melt(\n",
    "    df,\n",
    "    id_vars=[\"index\", \"nonlinear_func\", \"dims_z\", \"std\"],\n",
    "    value_vars=[\"cmi_null\", \"cmi_z\", \"cmi_a\", \"cmi_b\", \"cmi_c\", \"cmi_noise_var\"],\n",
    "    value_name=\"cmi\",\n",
    "    var_name=\"type\",\n",
    ")\n",
    "\n",
    "plotdf = plotdf[~plotdf[\"nonlinear_func\"].isin([\"square\", \"cube_func\"])]\n",
    "\n",
    "display(plotdf.head())"
   ]
  },
  {
   "cell_type": "code",
   "execution_count": 64,
   "id": "cd2c408b-98bb-4fed-b43c-4456c9f2f216",
   "metadata": {},
   "outputs": [
    {
     "data": {
      "text/plain": [
       "<AxesSubplot:xlabel='type', ylabel='cmi'>"
      ]
     },
     "execution_count": 64,
     "metadata": {},
     "output_type": "execute_result"
    },
    {
     "data": {
      "image/png": "[encoded data removed]",
      "text/plain": [
       "<Figure size 432x288 with 1 Axes>"
      ]
     },
     "metadata": {
      "needs_background": "light"
     },
     "output_type": "display_data"
    }
   ],
   "source": [
    "sns.stripplot(data=plotdf, x=\"type\", y=\"cmi\", hue=\"dims_z\")\n",
    "sns.boxplot(data=plotdf, x=\"type\", y=\"cmi\", color=\"black\", boxprops=dict(alpha=0.3))"
   ]
  },
  {
   "cell_type": "code",
   "execution_count": 60,
   "id": "d0c69bf6-f920-4b23-a114-b34518e154b4",
   "metadata": {},
   "outputs": [
    {
     "data": {
      "text/plain": [
       "<AxesSubplot:xlabel='type', ylabel='cmi'>"
      ]
     },
     "execution_count": 60,
     "metadata": {},
     "output_type": "execute_result"
    },
    {
     "data": {
      "image/png": "[encoded data removed]",
      "text/plain": [
       "<Figure size 432x288 with 1 Axes>"
      ]
     },
     "metadata": {
      "needs_background": "light"
     },
     "output_type": "display_data"
    }
   ],
   "source": [
    "sns.stripplot(data=plotdf, x=\"type\", y=\"cmi\", hue=\"std\")\n",
    "sns.boxplot(data=plotdf, x=\"type\", y=\"cmi\", color=\"black\", boxprops=dict(alpha=0.3))"
   ]
  },
  {
   "cell_type": "code",
   "execution_count": 65,
   "id": "9005a2eb-e199-41c1-8e11-05e470cb2174",
   "metadata": {},
   "outputs": [
    {
     "data": {
      "text/plain": [
       "<AxesSubplot:xlabel='type', ylabel='cmi'>"
      ]
     },
     "execution_count": 65,
     "metadata": {},
     "output_type": "execute_result"
    },
    {
     "data": {
      "image/png": "[encoded data removed]",
      "text/plain": [
       "<Figure size 432x288 with 1 Axes>"
      ]
     },
     "metadata": {
      "needs_background": "light"
     },
     "output_type": "display_data"
    }
   ],
   "source": [
    "sns.stripplot(data=plotdf, x=\"type\", y=\"cmi\", hue=\"nonlinear_func\")\n",
    "sns.boxplot(data=plotdf, x=\"type\", y=\"cmi\", color=\"black\", boxprops=dict(alpha=0.3))"
   ]
  },
  {
   "cell_type": "code",
   "execution_count": 74,
   "id": "1abfa0de-45a4-47ef-ae94-2994b49cfee0",
   "metadata": {},
   "outputs": [],
   "source": [
    "sample_sizes = np.arange(1000, 1e5, 5000)\n",
    "sample_sizes = np.linspace(500, 5000, 10)"
   ]
  },
  {
   "cell_type": "code",
   "execution_count": 75,
   "id": "28abb9ed-24d5-4be2-9f49-b448c1622081",
   "metadata": {},
   "outputs": [
    {
     "name": "stdout",
     "output_type": "stream",
     "text": [
      "[ 500. 1000. 1500. 2000. 2500. 3000. 3500. 4000. 4500. 5000.]\n"
     ]
    }
   ],
   "source": [
    "print(sample_sizes)"
   ]
  },
  {
   "cell_type": "code",
   "execution_count": null,
   "id": "17c8880a-3ade-4d59-b3f3-44e4ae5c4227",
   "metadata": {},
   "outputs": [],
   "source": []
  }
 ],
 "metadata": {
  "kernelspec": {
   "display_name": "causalx64_2",
   "language": "python",
   "name": "causalx64_2"
  },
  "language_info": {
   "codemirror_mode": {
    "name": "ipython",
    "version": 3
   },
   "file_extension": ".py",
   "mimetype": "text/x-python",
   "name": "python",
   "nbconvert_exporter": "python",
   "pygments_lexer": "ipython3",
   "version": "3.9.13"
  }
 },
 "nbformat": 4,
 "nbformat_minor": 5
}
