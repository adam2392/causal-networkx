{
 "cells": [
  {
   "cell_type": "markdown",
   "id": "bcf214de-2a9d-44c3-93b1-e2c9083150a8",
   "metadata": {},
   "source": [
    "# Sample Random Graphs and Datasets\n",
    "\n",
    "We will generate mixed discrete-continuous and nonlinear observational data based upon the mixed additive noise model (MANM). This will be based on the [MANM python package](https://github.com/hpi-epic/manm-cs).\n",
    "\n",
    "NOTE: for now, we are only simulating causal DAGs, not ADMGs."
   ]
  },
  {
   "cell_type": "code",
   "execution_count": 1,
   "id": "f7d97613-1220-4602-898b-64c36d3ae867",
   "metadata": {},
   "outputs": [],
   "source": [
    "%load_ext lab_black"
   ]
  },
  {
   "cell_type": "code",
   "execution_count": 2,
   "id": "24fbb44c-ed76-4810-8404-8ee6e2a444e8",
   "metadata": {},
   "outputs": [],
   "source": [
    "%load_ext autoreload\n",
    "%autoreload 2"
   ]
  },
  {
   "cell_type": "code",
   "execution_count": 14,
   "id": "82adbfb5-9c4c-4658-94ba-99d06fbedca6",
   "metadata": {},
   "outputs": [],
   "source": [
    "import os\n",
    "from pathlib import Path\n",
    "from pprint import pprint\n",
    "\n",
    "import numpy as np\n",
    "import bnlearn as bn\n",
    "import networkx as nx\n",
    "\n",
    "import causal_networkx\n",
    "from causal_networkx.ci import (\n",
    "    g_square_discrete,\n",
    "    fisherz,\n",
    "    g_square_binary,\n",
    "    Oracle,\n",
    "    ParentOracle,\n",
    ")\n",
    "from causal_networkx.discovery import PC, RobustPC\n",
    "from causal_networkx.io import load_from_pgmpy\n",
    "from causal_networkx.simulation.random import simulate_random_graphs_manm_cs\n",
    "from causal_networkx.io import read_dot\n",
    "\n",
    "import matplotlib.pyplot as plt\n",
    "import seaborn as sns"
   ]
  },
  {
   "cell_type": "code",
   "execution_count": 4,
   "id": "7fbc4455-5f4e-4bf1-a42a-afbf5434c04b",
   "metadata": {},
   "outputs": [],
   "source": [
    "np.random.seed(12345)"
   ]
  },
  {
   "cell_type": "markdown",
   "id": "ef50c0fe-ef82-4976-8cf6-8874ce9292a7",
   "metadata": {},
   "source": [
    "# Simulate One Graph"
   ]
  },
  {
   "cell_type": "code",
   "execution_count": 94,
   "id": "b865a176-3813-469e-80f2-98dc8eacdf92",
   "metadata": {},
   "outputs": [],
   "source": [
    "n_nodes = 5\n",
    "edge_density = 0.3\n",
    "n_samples = 1000\n",
    "graph, df, builder = simulate_random_graphs_manm_cs(\n",
    "    n_nodes=n_nodes,\n",
    "    edge_density=edge_density,\n",
    "    n_samples=n_samples,\n",
    ")"
   ]
  },
  {
   "cell_type": "code",
   "execution_count": 95,
   "id": "acdc5058-7193-4c8d-a727-64044ac89a1b",
   "metadata": {},
   "outputs": [
    {
     "name": "stdout",
     "output_type": "stream",
     "text": [
      "<causal_networkx.cgm.DAG object at 0x7fef47534d90>\n",
      "(1000, 5)\n"
     ]
    },
    {
     "data": {
      "image/png": "[encoded data removed]",
      "text/plain": [
       "<Figure size 432x288 with 1 Axes>"
      ]
     },
     "metadata": {},
     "output_type": "display_data"
    }
   ],
   "source": [
    "print(graph)\n",
    "graph.draw()\n",
    "print(df.shape)"
   ]
  },
  {
   "cell_type": "markdown",
   "id": "80ce8e87-a511-4eeb-8937-a8a5b489ea1e",
   "metadata": {},
   "source": [
    "# Try sTfuf"
   ]
  },
  {
   "cell_type": "code",
   "execution_count": 102,
   "id": "aea1fb5e-deeb-402e-a8c7-2675185ab895",
   "metadata": {},
   "outputs": [
    {
     "data": {
      "image/png": "[encoded data removed]",
      "text/plain": [
       "<Figure size 432x288 with 1 Axes>"
      ]
     },
     "metadata": {},
     "output_type": "display_data"
    },
    {
     "name": "stdout",
     "output_type": "stream",
     "text": [
      "Error in callback <bound method BlackFormatter.format_cell of <lab_black.BlackFormatter object at 0x7fef417a15b0>> (for post_run_cell):\n"
     ]
    },
    {
     "ename": "KeyError",
     "evalue": "'_i103'",
     "output_type": "error",
     "traceback": [
      "\u001b[0;31m---------------------------------------------------------------------------\u001b[0m",
      "\u001b[0;31mKeyError\u001b[0m                                  Traceback (most recent call last)",
      "File \u001b[0;32m~/miniconda3/envs/causalx64/lib/python3.8/site-packages/lab_black.py:208\u001b[0m, in \u001b[0;36mBlackFormatter.format_cell\u001b[0;34m(self, *args, **kwargs)\u001b[0m\n\u001b[1;32m    206\u001b[0m cell_id \u001b[38;5;241m=\u001b[39m \u001b[38;5;28mlen\u001b[39m(\u001b[38;5;28mself\u001b[39m\u001b[38;5;241m.\u001b[39mshell\u001b[38;5;241m.\u001b[39muser_ns[\u001b[38;5;124m\"\u001b[39m\u001b[38;5;124mIn\u001b[39m\u001b[38;5;124m\"\u001b[39m]) \u001b[38;5;241m-\u001b[39m \u001b[38;5;241m1\u001b[39m\n\u001b[1;32m    207\u001b[0m \u001b[38;5;28;01mif\u001b[39;00m cell_id \u001b[38;5;241m>\u001b[39m \u001b[38;5;241m0\u001b[39m:\n\u001b[0;32m--> 208\u001b[0m     unformatted_cell \u001b[38;5;241m=\u001b[39m \u001b[38;5;28;43mself\u001b[39;49m\u001b[38;5;241;43m.\u001b[39;49m\u001b[43mshell\u001b[49m\u001b[38;5;241;43m.\u001b[39;49m\u001b[43muser_ns\u001b[49m\u001b[43m[\u001b[49m\u001b[38;5;124;43m\"\u001b[39;49m\u001b[38;5;124;43m_i\u001b[39;49m\u001b[38;5;124;43m\"\u001b[39;49m\u001b[43m \u001b[49m\u001b[38;5;241;43m+\u001b[39;49m\u001b[43m \u001b[49m\u001b[38;5;28;43mstr\u001b[39;49m\u001b[43m(\u001b[49m\u001b[43mcell_id\u001b[49m\u001b[43m)\u001b[49m\u001b[43m]\u001b[49m\n\u001b[1;32m    210\u001b[0m     \u001b[38;5;28;01mif\u001b[39;00m re\u001b[38;5;241m.\u001b[39msearch(\u001b[38;5;124mr\u001b[39m\u001b[38;5;124m\"\u001b[39m\u001b[38;5;124m^\u001b[39m\u001b[38;5;124m\\\u001b[39m\u001b[38;5;124ms*\u001b[39m\u001b[38;5;132;01m%lo\u001b[39;00m\u001b[38;5;124mad(py)? \u001b[39m\u001b[38;5;124m\"\u001b[39m, unformatted_cell, flags\u001b[38;5;241m=\u001b[39mre\u001b[38;5;241m.\u001b[39mM):\n\u001b[1;32m    211\u001b[0m         \u001b[38;5;28;01mreturn\u001b[39;00m\n",
      "\u001b[0;31mKeyError\u001b[0m: '_i103'"
     ]
    }
   ],
   "source": [
    "test_graph = read_dot(fname)\n",
    "\n",
    "test_graph.draw()"
   ]
  },
  {
   "cell_type": "code",
   "execution_count": 103,
   "id": "416f1a75-9fe4-4f1b-93f8-55e174912709",
   "metadata": {},
   "outputs": [
    {
     "data": {
      "image/png": "[encoded data removed]",
      "text/plain": [
       "<Figure size 432x288 with 1 Axes>"
      ]
     },
     "metadata": {},
     "output_type": "display_data"
    },
    {
     "name": "stdout",
     "output_type": "stream",
     "text": [
      "Error in callback <bound method BlackFormatter.format_cell of <lab_black.BlackFormatter object at 0x7fef417a15b0>> (for post_run_cell):\n"
     ]
    },
    {
     "ename": "KeyError",
     "evalue": "'_i104'",
     "output_type": "error",
     "traceback": [
      "\u001b[0;31m---------------------------------------------------------------------------\u001b[0m",
      "\u001b[0;31mKeyError\u001b[0m                                  Traceback (most recent call last)",
      "File \u001b[0;32m~/miniconda3/envs/causalx64/lib/python3.8/site-packages/lab_black.py:208\u001b[0m, in \u001b[0;36mBlackFormatter.format_cell\u001b[0;34m(self, *args, **kwargs)\u001b[0m\n\u001b[1;32m    206\u001b[0m cell_id \u001b[38;5;241m=\u001b[39m \u001b[38;5;28mlen\u001b[39m(\u001b[38;5;28mself\u001b[39m\u001b[38;5;241m.\u001b[39mshell\u001b[38;5;241m.\u001b[39muser_ns[\u001b[38;5;124m\"\u001b[39m\u001b[38;5;124mIn\u001b[39m\u001b[38;5;124m\"\u001b[39m]) \u001b[38;5;241m-\u001b[39m \u001b[38;5;241m1\u001b[39m\n\u001b[1;32m    207\u001b[0m \u001b[38;5;28;01mif\u001b[39;00m cell_id \u001b[38;5;241m>\u001b[39m \u001b[38;5;241m0\u001b[39m:\n\u001b[0;32m--> 208\u001b[0m     unformatted_cell \u001b[38;5;241m=\u001b[39m \u001b[38;5;28;43mself\u001b[39;49m\u001b[38;5;241;43m.\u001b[39;49m\u001b[43mshell\u001b[49m\u001b[38;5;241;43m.\u001b[39;49m\u001b[43muser_ns\u001b[49m\u001b[43m[\u001b[49m\u001b[38;5;124;43m\"\u001b[39;49m\u001b[38;5;124;43m_i\u001b[39;49m\u001b[38;5;124;43m\"\u001b[39;49m\u001b[43m \u001b[49m\u001b[38;5;241;43m+\u001b[39;49m\u001b[43m \u001b[49m\u001b[38;5;28;43mstr\u001b[39;49m\u001b[43m(\u001b[49m\u001b[43mcell_id\u001b[49m\u001b[43m)\u001b[49m\u001b[43m]\u001b[49m\n\u001b[1;32m    210\u001b[0m     \u001b[38;5;28;01mif\u001b[39;00m re\u001b[38;5;241m.\u001b[39msearch(\u001b[38;5;124mr\u001b[39m\u001b[38;5;124m\"\u001b[39m\u001b[38;5;124m^\u001b[39m\u001b[38;5;124m\\\u001b[39m\u001b[38;5;124ms*\u001b[39m\u001b[38;5;132;01m%lo\u001b[39;00m\u001b[38;5;124mad(py)? \u001b[39m\u001b[38;5;124m\"\u001b[39m, unformatted_cell, flags\u001b[38;5;241m=\u001b[39mre\u001b[38;5;241m.\u001b[39mM):\n\u001b[1;32m    211\u001b[0m         \u001b[38;5;28;01mreturn\u001b[39;00m\n",
      "\u001b[0;31mKeyError\u001b[0m: '_i104'"
     ]
    }
   ],
   "source": [
    "test_graph = read_dot(fname)\n",
    "\n",
    "test_graph.draw()"
   ]
  },
  {
   "cell_type": "code",
   "execution_count": 74,
   "id": "f1dbf18d-c669-4865-a1e2-b195a2e74797",
   "metadata": {},
   "outputs": [
    {
     "name": "stdout",
     "output_type": "stream",
     "text": [
      "strict digraph\t{\n",
      "0;\n",
      "1;\n",
      "2;\n",
      "3;\n",
      "4;0 -> 4;\n",
      "3 -> 4;\n",
      "}\n",
      "strict digraph  {\n",
      "0;\n",
      "4;\n",
      "3;\n",
      "1;\n",
      "2;\n",
      "0 -> 4;\n",
      "3 -> 4;\n",
      "}\n",
      "\n"
     ]
    }
   ],
   "source": [
    "import pydot\n",
    "\n",
    "str_graph = graph.to_dot_graph()\n",
    "print(str_graph)\n",
    "dot_graph = pydot.graph_from_dot_data(str_graph)\n",
    "# print(dot_graph[0].to_string())\n",
    "\n",
    "nx_graph = nx.DiGraph()\n",
    "nx_graph.add_edges_from(graph.edges)\n",
    "nx_graph.add_nodes_from(graph.nodes)\n",
    "pydot_graph = nx.nx_pydot.to_pydot(nx_graph)\n",
    "print(pydot_graph)\n",
    "# print(str(dot_graph))"
   ]
  },
  {
   "cell_type": "code",
   "execution_count": 75,
   "id": "ae6a8cd5-d104-4f05-9ddf-6911bb21fa39",
   "metadata": {},
   "outputs": [
    {
     "name": "stdout",
     "output_type": "stream",
     "text": [
      "Help on function write in module pydot:\n",
      "\n",
      "write(self, path, prog=None, format='raw', encoding=None)\n",
      "    Writes a graph to a file.\n",
      "    \n",
      "    Given a filename 'path' it will open/create and truncate\n",
      "    such file and write on it a representation of the graph\n",
      "    defined by the dot object in the format specified by\n",
      "    'format' and using the encoding specified by `encoding` for text.\n",
      "    The format 'raw' is used to dump the string representation\n",
      "    of the Dot object, without further processing.\n",
      "    The output can be processed by any of graphviz tools, defined\n",
      "    in 'prog', which defaults to 'dot'\n",
      "    Returns True or False according to the success of the write\n",
      "    operation.\n",
      "    \n",
      "    There's also the preferred possibility of using:\n",
      "    \n",
      "        write_'format'(path, prog='program')\n",
      "    \n",
      "    which are automatically defined for all the supported formats.\n",
      "    [write_ps(), write_gif(), write_dia(), ...]\n",
      "    \n",
      "    The encoding is passed to `open` [1].\n",
      "    \n",
      "    [1] https://docs.python.org/3/library/functions.html#open\n",
      "\n"
     ]
    }
   ],
   "source": [
    "help(pydot.Dot.write)"
   ]
  },
  {
   "cell_type": "code",
   "execution_count": 71,
   "id": "17ebda94-2c45-4fae-9250-e082f2001ac0",
   "metadata": {},
   "outputs": [
    {
     "name": "stdout",
     "output_type": "stream",
     "text": [
      "strict digraph\t{\n",
      "0;\n",
      "1;\n",
      "2;\n",
      "3;\n",
      "4;\n",
      "0 -> 4;\n",
      "3 -> 4;\n",
      "}\n",
      "b'strict digraph {\\n\\tgraph [bb=\"0,0,270,108\"];\\n\\tnode [label=\"\\\\N\"];\\n\\t0\\t[height=0.5,\\n\\t\\tpos=\"27,90\",\\n\\t\\twidth=0.75];\\n\\t4\\t[height=0.5,\\n\\t\\tpos=\"63,18\",\\n\\t\\twidth=0.75];\\n\\t0 -> 4\\t[pos=\"e,54.696,35.147 35.35,72.765 39.712,64.283 45.147,53.714 50.041,44.197\"];\\n\\t3\\t[height=0.5,\\n\\t\\tpos=\"99,90\",\\n\\t\\twidth=0.75];\\n\\t3 -> 4\\t[pos=\"e,71.304,35.147 90.65,72.765 86.288,64.283 80.853,53.714 75.959,44.197\"];\\n\\t1\\t[height=0.5,\\n\\t\\tpos=\"171,90\",\\n\\t\\twidth=0.75];\\n\\t2\\t[height=0.5,\\n\\t\\tpos=\"243,90\",\\n\\t\\twidth=0.75];\\n}\\n'\n"
     ]
    }
   ],
   "source": [
    "str_graph = graph.to_dot_graph()\n",
    "print(str_graph)\n",
    "\n",
    "# As a bytes literal:\n",
    "output_graphviz_dot = pydot_graph.create_dot()\n",
    "print(output_graphviz_dot)"
   ]
  },
  {
   "cell_type": "code",
   "execution_count": 76,
   "id": "f4db4274-00ef-4f7f-9db6-856ed13ddf19",
   "metadata": {},
   "outputs": [],
   "source": [
    "graph.save(fname=\"/Users/adam2392/Downloads/test.dot\")"
   ]
  },
  {
   "cell_type": "code",
   "execution_count": 80,
   "id": "13a8fc49-959f-4108-b90d-9fcae42c809d",
   "metadata": {},
   "outputs": [
    {
     "name": "stdout",
     "output_type": "stream",
     "text": [
      "<causal_networkx.cgm.DAG object at 0x7fef46c2b640>\n"
     ]
    },
    {
     "data": {
      "image/png": "[encoded data removed]",
      "text/plain": [
       "<Figure size 432x288 with 1 Axes>"
      ]
     },
     "metadata": {},
     "output_type": "display_data"
    }
   ],
   "source": [
    "graph.draw()\n",
    "print(graph)"
   ]
  },
  {
   "cell_type": "code",
   "execution_count": 93,
   "id": "945ab178-fe6f-4cef-bdb9-273c57c8cbf9",
   "metadata": {},
   "outputs": [
    {
     "name": "stdout",
     "output_type": "stream",
     "text": [
      "2.7.1\n"
     ]
    }
   ],
   "source": [
    "print(nx.__version__)"
   ]
  },
  {
   "cell_type": "code",
   "execution_count": 90,
   "id": "d371c039-89ea-4829-ba26-c38bf1e259c8",
   "metadata": {},
   "outputs": [
    {
     "name": "stdout",
     "output_type": "stream",
     "text": [
      "[0, 4, 3, 1, 2]\n",
      "strict digraph  {\n",
      "0;\n",
      "4;\n",
      "3;\n",
      "1;\n",
      "2;\n",
      "0 -> 4;\n",
      "3 -> 4;\n",
      "}\n",
      "\n"
     ]
    }
   ],
   "source": [
    "nx_graph = nx.DiGraph(graph.edges)\n",
    "nx_graph.add_nodes_from(graph.nodes)\n",
    "print(nx_graph.nodes)\n",
    "pydot_graph = nx.nx_pydot.to_pydot(nx_graph)\n",
    "print(pydot_graph)\n",
    "nx.nx_pydot.write_dot(nx_graph, \"/Users/adam2392/Downloads/test.dot\")"
   ]
  },
  {
   "cell_type": "code",
   "execution_count": 88,
   "id": "4ab27982-a003-4bae-8237-aeb5bb300dbf",
   "metadata": {},
   "outputs": [
    {
     "name": "stdout",
     "output_type": "stream",
     "text": [
      "digraph G {\n",
      "0;\n",
      "4;\n",
      "3;\n",
      "1;\n",
      "2;\n",
      "0 -> 4;\n",
      "3 -> 4;\n",
      "\"\\n\";\n",
      "}\n",
      "\n",
      "<causal_networkx.cgm.DAG object at 0x7feef2bd37c0>\n"
     ]
    },
    {
     "data": {
      "image/png": "[encoded data removed]",
      "text/plain": [
       "<Figure size 432x288 with 1 Axes>"
      ]
     },
     "metadata": {},
     "output_type": "display_data"
    }
   ],
   "source": [
    "import pydot\n",
    "\n",
    "pygraph = pydot.graph_from_dot_file(\n",
    "    \"/Users/adam2392/Downloads/test.dot\", encoding=\"utf8\"\n",
    ")[0]\n",
    "print(pygraph.to_string())\n",
    "# nx_graph = nx.drawing.nx_pydot.from_pydot(graph)\n",
    "read_graph = read_dot(\"/Users/adam2392/Downloads/test.dot\")\n",
    "\n",
    "print(read_graph)\n",
    "read_graph.draw()"
   ]
  },
  {
   "cell_type": "markdown",
   "id": "08266ac3-da8d-4b89-9763-f89b9e3d6feb",
   "metadata": {},
   "source": [
    "# Simulate Now Many Graphs and Save to Dataset\n",
    "\n",
    "Each graph is defined by a set of parameters in the MANM module:\n",
    "\n",
    "- number of nodes\n",
    "- edge density (0 to 1)\n",
    "- discrete node ratio\n",
    "- discrete SNR\n",
    "- number of discrete classes\n",
    "- continuous noise std\n",
    "- function type ([linear, quadratic, cubic, tanh, sin, cos])"
   ]
  },
  {
   "cell_type": "code",
   "execution_count": 31,
   "id": "07122f96-6811-481a-af3d-cfb32957dabb",
   "metadata": {},
   "outputs": [],
   "source": [
    "idx = 0\n",
    "output_dir = '~/\n",
    "fname = f\"graph_{idx}.dot\"\n",
    "json_fname = f\"graph_{idx}.json\"\n",
    "\n",
    "json_dict = {\n",
    "    \"idx\": idx,\n",
    "    \"n_nodes\": builder.num_nodes,\n",
    "    \"n_samples\": n_samples,\n",
    "    \"edge_density\": builder.edge_density,\n",
    "    \"discrete_node_ratio\": builder.discrete_node_ratio,\n",
    "    \"conditional_gaussian\": builder.conditional_gaussian,\n",
    "    \"discrete_signal_to_noise_ratio\": builder.discrete_signal_to_noise_ratio,\n",
    "    \"min_discrete_value_classes\": builder.min_discrete_value_classes,\n",
    "    \"max_discrete_value_classes\": builder.max_discrete_value_classes,\n",
    "    \"continuous_noise_std\": builder.continuous_noise_std,\n",
    "    \"beta_lower_limit\": builder.beta_lower_limit,\n",
    "    \"beta_upper_limit\": builder.beta_upper_limit,\n",
    "    \"functions\": builder.functions,\n",
    "}"
   ]
  },
  {
   "cell_type": "code",
   "execution_count": 36,
   "id": "9275676f-0f36-4cb9-8615-2b2b94d4f1e6",
   "metadata": {},
   "outputs": [
    {
     "name": "stdout",
     "output_type": "stream",
     "text": [
      "0.0\n",
      "0.1\n",
      "0.2\n",
      "0.30000000000000004\n",
      "0.4\n",
      "0.5\n",
      "0.6000000000000001\n",
      "0.7000000000000001\n",
      "0.8\n",
      "0.9\n",
      "1.0\n"
     ]
    }
   ],
   "source": [
    "for discrete_node_ratio in np.linspace(0, 1, 11):\n",
    "    print(discrete_node_ratio)"
   ]
  },
  {
   "cell_type": "code",
   "execution_count": null,
   "id": "7049fdf3-e493-4a2f-9d8e-8b2768db7258",
   "metadata": {},
   "outputs": [],
   "source": [
    "n_samples = 1000\n",
    "discrete_node_ratio = 0.5\n",
    "\n",
    "# TODO: see if literature has hints on setting alpha\n",
    "# todo: causal structure learning for correcting for pvalues\n",
    "# during local learning i.e. X \\perp Y | Z\n",
    "#\n",
    "# IDEAS: \n",
    "# - correction based on statistical information aka FDR/Bonf\n",
    "# - correction based on some non-causal structure aka adjacency paths\n",
    "# \n",
    "# discrete_node_ratio is 0 -> maybe use partial corr, or KCI if insufficient\n",
    "# start with functions = linear\n",
    "alpha = # iterate over various numbers\n",
    "\n",
    "\n",
    "for n_nodes in range(5, 15):\n",
    "    for edge_density in np.linspace(0.1, 0.9, 9):\n",
    "        # for discrete_node_ratio in np.linspace(0, 1, 11):\n",
    "            graph, df, builder = simulate_random_graphs_manm_cs(\n",
    "                n_nodes=n_nodes,\n",
    "                edge_density=edge_density,\n",
    "                n_samples=n_samples,\n",
    "            )"
   ]
  }
 ],
 "metadata": {
  "kernelspec": {
   "display_name": "causalx64",
   "language": "python",
   "name": "causalx64"
  },
  "language_info": {
   "codemirror_mode": {
    "name": "ipython",
    "version": 3
   },
   "file_extension": ".py",
   "mimetype": "text/x-python",
   "name": "python",
   "nbconvert_exporter": "python",
   "pygments_lexer": "ipython3",
   "version": "3.8.12"
  }
 },
 "nbformat": 4,
 "nbformat_minor": 5
}
