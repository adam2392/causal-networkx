{
 "cells": [
  {
   "cell_type": "markdown",
   "id": "bcf214de-2a9d-44c3-93b1-e2c9083150a8",
   "metadata": {},
   "source": [
    "# Sample Random Graphs and Datasets\n",
    "\n",
    "We will generate mixed discrete-continuous and nonlinear observational data based upon the mixed additive noise model (MANM). This will be based on the [MANM python package](https://github.com/hpi-epic/manm-cs).\n",
    "\n",
    "NOTE: for now, we are only simulating causal DAGs, not ADMGs."
   ]
  },
  {
   "cell_type": "code",
   "execution_count": 37,
   "id": "f7d97613-1220-4602-898b-64c36d3ae867",
   "metadata": {},
   "outputs": [
    {
     "name": "stdout",
     "output_type": "stream",
     "text": [
      "The lab_black extension is already loaded. To reload it, use:\n",
      "  %reload_ext lab_black\n"
     ]
    }
   ],
   "source": [
    "%load_ext lab_black"
   ]
  },
  {
   "cell_type": "code",
   "execution_count": 38,
   "id": "24fbb44c-ed76-4810-8404-8ee6e2a444e8",
   "metadata": {},
   "outputs": [
    {
     "name": "stdout",
     "output_type": "stream",
     "text": [
      "The autoreload extension is already loaded. To reload it, use:\n",
      "  %reload_ext autoreload\n"
     ]
    }
   ],
   "source": [
    "%load_ext autoreload\n",
    "%autoreload 2"
   ]
  },
  {
   "cell_type": "code",
   "execution_count": 43,
   "id": "82adbfb5-9c4c-4658-94ba-99d06fbedca6",
   "metadata": {},
   "outputs": [],
   "source": [
    "import os\n",
    "from pathlib import Path\n",
    "from pprint import pprint\n",
    "\n",
    "import numpy as np\n",
    "import bnlearn as bn\n",
    "import networkx as nx\n",
    "\n",
    "import causal_networkx\n",
    "from causal_networkx.ci import (\n",
    "    g_square_discrete,\n",
    "    fisherz,\n",
    "    g_square_binary,\n",
    "    Oracle,\n",
    "    ParentOracle,\n",
    ")\n",
    "from causal_networkx.discovery import PC, RobustPC\n",
    "from causal_networkx.io import load_from_pgmpy\n",
    "from causal_networkx.simulation.random import simulate_random_graphs_manm_cs\n",
    "from causal_networkx.io import read_dot, load_from_networkx\n",
    "\n",
    "import matplotlib.pyplot as plt\n",
    "import seaborn as sns"
   ]
  },
  {
   "cell_type": "code",
   "execution_count": 40,
   "id": "7fbc4455-5f4e-4bf1-a42a-afbf5434c04b",
   "metadata": {},
   "outputs": [],
   "source": [
    "np.random.seed(12345)"
   ]
  },
  {
   "cell_type": "markdown",
   "id": "ef50c0fe-ef82-4976-8cf6-8874ce9292a7",
   "metadata": {},
   "source": [
    "# Simulate One Graph"
   ]
  },
  {
   "cell_type": "code",
   "execution_count": 41,
   "id": "b865a176-3813-469e-80f2-98dc8eacdf92",
   "metadata": {},
   "outputs": [],
   "source": [
    "n_nodes = 5\n",
    "edge_density = 0.3\n",
    "n_samples = 1000\n",
    "graph, df, builder = simulate_random_graphs_manm_cs(\n",
    "    n_nodes=n_nodes,\n",
    "    edge_density=edge_density,\n",
    "    n_samples=n_samples,\n",
    ")"
   ]
  },
  {
   "cell_type": "code",
   "execution_count": 42,
   "id": "acdc5058-7193-4c8d-a727-64044ac89a1b",
   "metadata": {},
   "outputs": [
    {
     "name": "stdout",
     "output_type": "stream",
     "text": [
      "<causal_networkx.graphs.dag.DAG object at 0x7fe88de688e0>\n",
      "(1000, 5)\n"
     ]
    },
    {
     "data": {
      "image/png": "[encoded data removed]",
      "text/plain": [
       "<Figure size 432x288 with 1 Axes>"
      ]
     },
     "metadata": {},
     "output_type": "display_data"
    }
   ],
   "source": [
    "print(graph)\n",
    "graph.draw()\n",
    "print(df.shape)"
   ]
  },
  {
   "cell_type": "code",
   "execution_count": 44,
   "id": "cc292e0f-525b-4e61-8151-2b7d3e676bf5",
   "metadata": {},
   "outputs": [
    {
     "data": {
      "image/png": "[encoded data removed]",
      "text/plain": [
       "<Figure size 432x288 with 1 Axes>"
      ]
     },
     "metadata": {},
     "output_type": "display_data"
    }
   ],
   "source": [
    "fname = \"/Users/adam2392/Downloads/test.gml\"\n",
    "\n",
    "graph.save(fname, format=\"networkx-gml\")\n",
    "\n",
    "read_graph = nx.read_gml(fname)\n",
    "test_graph = load_from_networkx(read_graph)\n",
    "\n",
    "test_graph.draw()"
   ]
  },
  {
   "cell_type": "markdown",
   "id": "08266ac3-da8d-4b89-9763-f89b9e3d6feb",
   "metadata": {},
   "source": [
    "# Simulate Now Many Graphs and Save to Dataset\n",
    "\n",
    "Each graph is defined by a set of parameters in the MANM module:\n",
    "\n",
    "- number of nodes\n",
    "- edge density (0 to 1)\n",
    "- discrete node ratio\n",
    "- discrete SNR\n",
    "- number of discrete classes\n",
    "- continuous noise std\n",
    "- function type ([linear, quadratic, cubic, tanh, sin, cos])"
   ]
  },
  {
   "cell_type": "code",
   "execution_count": 9,
   "id": "07122f96-6811-481a-af3d-cfb32957dabb",
   "metadata": {},
   "outputs": [],
   "source": [
    "idx = 0\n",
    "output_dir = \"/Users/adam2392/Downloads/\"\n",
    "fname = f\"graph_{idx}.dot\"\n",
    "json_fname = f\"graph_{idx}.json\"\n",
    "\n",
    "json_dict = {\n",
    "    \"idx\": idx,\n",
    "    \"n_nodes\": builder.num_nodes,\n",
    "    \"n_samples\": n_samples,\n",
    "    \"edge_density\": builder.edge_density,\n",
    "    \"discrete_node_ratio\": builder.discrete_node_ratio,\n",
    "    \"conditional_gaussian\": builder.conditional_gaussian,\n",
    "    \"discrete_signal_to_noise_ratio\": builder.discrete_signal_to_noise_ratio,\n",
    "    \"min_discrete_value_classes\": builder.min_discrete_value_classes,\n",
    "    \"max_discrete_value_classes\": builder.max_discrete_value_classes,\n",
    "    \"continuous_noise_std\": builder.continuous_noise_std,\n",
    "    \"beta_lower_limit\": builder.beta_lower_limit,\n",
    "    \"beta_upper_limit\": builder.beta_upper_limit,\n",
    "    \"functions\": builder.functions,\n",
    "}"
   ]
  },
  {
   "cell_type": "code",
   "execution_count": 36,
   "id": "9275676f-0f36-4cb9-8615-2b2b94d4f1e6",
   "metadata": {},
   "outputs": [
    {
     "name": "stdout",
     "output_type": "stream",
     "text": [
      "0.0\n",
      "0.1\n",
      "0.2\n",
      "0.30000000000000004\n",
      "0.4\n",
      "0.5\n",
      "0.6000000000000001\n",
      "0.7000000000000001\n",
      "0.8\n",
      "0.9\n",
      "1.0\n"
     ]
    }
   ],
   "source": [
    "for discrete_node_ratio in np.linspace(0, 1, 11):\n",
    "    print(discrete_node_ratio)"
   ]
  },
  {
   "cell_type": "code",
   "execution_count": null,
   "id": "7049fdf3-e493-4a2f-9d8e-8b2768db7258",
   "metadata": {},
   "outputs": [],
   "source": [
    "n_samples = 1000\n",
    "discrete_node_ratio = 0.5\n",
    "\n",
    "# TODO: see if literature has hints on setting alpha\n",
    "# todo: causal structure learning for correcting for pvalues\n",
    "# during local learning i.e. X \\perp Y | Z\n",
    "#\n",
    "# IDEAS: \n",
    "# - correction based on statistical information aka FDR/Bonf\n",
    "# - correction based on some non-causal structure aka adjacency paths\n",
    "# \n",
    "# discrete_node_ratio is 0 -> maybe use partial corr, or KCI if insufficient\n",
    "# start with functions = linear\n",
    "alpha = # iterate over various numbers\n",
    "\n",
    "\n",
    "for n_nodes in range(5, 15):\n",
    "    for edge_density in np.linspace(0.1, 0.9, 9):\n",
    "        # for discrete_node_ratio in np.linspace(0, 1, 11):\n",
    "            graph, df, builder = simulate_random_graphs_manm_cs(\n",
    "                n_nodes=n_nodes,\n",
    "                edge_density=edge_density,\n",
    "                n_samples=n_samples,\n",
    "            )"
   ]
  }
 ],
 "metadata": {
  "kernelspec": {
   "display_name": "causalx64",
   "language": "python",
   "name": "causalx64"
  },
  "language_info": {
   "codemirror_mode": {
    "name": "ipython",
    "version": 3
   },
   "file_extension": ".py",
   "mimetype": "text/x-python",
   "name": "python",
   "nbconvert_exporter": "python",
   "pygments_lexer": "ipython3",
   "version": "3.8.12"
  }
 },
 "nbformat": 4,
 "nbformat_minor": 5
}
