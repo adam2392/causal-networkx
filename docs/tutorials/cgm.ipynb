{
 "cells": [
  {
   "cell_type": "markdown",
   "metadata": {},
   "source": [
    "# Causal Graphical Models\n",
    "\n",
    "In this section, we explore what are known as causal graphical models (CGM), which are essentially Bayesian networks where edges imply causal influence rather then just probabilistic dependence.\n",
    "\n",
    "CGMs are assumed to be acyclic, meaning they do not have cycles among their variables."
   ]
  },
  {
   "cell_type": "code",
   "execution_count": 22,
   "metadata": {},
   "outputs": [],
   "source": [
    "import networkx as nx\n",
    "# from causalscm.cgm import CausalGraphicalModel\n",
    "# from pgmpy.models import BayesianNetwork\n",
    "\n",
    "import matplotlib.pyplot as plt"
   ]
  },
  {
   "cell_type": "markdown",
   "metadata": {},
   "source": [
    "## Causally Sufficient Models\n",
    "\n",
    "Here, we don't have any latent variables. We demonstrate how a CGM works in code and what we can do with it.\n",
    "\n",
    "We also demonstrate Clustered DAGs (CDAGs), which form from a cluster of variables, which is represented underneath the hood with two graphs. One consisting of all the variables denoting the cluster ID in the metadata, and another consisting of the graph between clusters. The first graph may be incompletely specified, since we do not require the edges within a cluster be fully specified.\n",
    "\n",
    "Based on knowledge of CDAGs, we know that d-separation is complete."
   ]
  },
  {
   "cell_type": "code",
   "execution_count": 23,
   "metadata": {},
   "outputs": [],
   "source": [
    "dag = nx.MultiDiGraph()"
   ]
  },
  {
   "cell_type": "code",
   "execution_count": 63,
   "metadata": {},
   "outputs": [
    {
     "data": {
      "text/plain": [
       "'direct'"
      ]
     },
     "execution_count": 63,
     "metadata": {},
     "output_type": "execute_result"
    }
   ],
   "source": [
    "dag.add_edge('A', 'B', key='direct')\n",
    "dag.add_edge('A', 'B', key='bidirected')\n",
    "dag.add_edge('B', 'A', key='bidirected')\n",
    "dag.add_edge('C', 'B', key='direct')"
   ]
  },
  {
   "cell_type": "code",
   "execution_count": 64,
   "metadata": {},
   "outputs": [
    {
     "name": "stdout",
     "output_type": "stream",
     "text": [
      "[('A', 'B', 'direct'), ('A', 'B', 'bidirected'), ('B', 'A', 'bidirected'), ('C', 'B', 'direct')]\n"
     ]
    }
   ],
   "source": [
    "print(dag.edges)"
   ]
  },
  {
   "cell_type": "code",
   "execution_count": 68,
   "metadata": {},
   "outputs": [
    {
     "name": "stdout",
     "output_type": "stream",
     "text": [
      "MultiDiGraph with 3 nodes and 4 edges\n",
      "[<matplotlib.patches.FancyArrowPatch object at 0x13897d7f0>]\n"
     ]
    },
    {
     "ename": "NetworkXError",
     "evalue": "graph should be directed acyclic",
     "output_type": "error",
     "traceback": [
      "\u001b[0;31m---------------------------------------------------------------------------\u001b[0m",
      "\u001b[0;31mNetworkXError\u001b[0m                             Traceback (most recent call last)",
      "Input \u001b[0;32mIn [68]\u001b[0m, in \u001b[0;36m<cell line: 57>\u001b[0;34m()\u001b[0m\n\u001b[1;32m     52\u001b[0m \u001b[38;5;28mprint\u001b[39m(edges)\n\u001b[1;32m     53\u001b[0m \u001b[38;5;66;03m# set alpha value for each edge\u001b[39;00m\n\u001b[1;32m     54\u001b[0m \u001b[38;5;66;03m# for i in range(M):\u001b[39;00m\n\u001b[1;32m     55\u001b[0m     \u001b[38;5;66;03m# edges[i].set_alpha(edge_alphas[i])\u001b[39;00m\n\u001b[0;32m---> 57\u001b[0m \u001b[38;5;28mprint\u001b[39m(\u001b[43mnx\u001b[49m\u001b[38;5;241;43m.\u001b[39;49m\u001b[43md_separated\u001b[49m\u001b[43m(\u001b[49m\u001b[43mG\u001b[49m\u001b[43m,\u001b[49m\u001b[43m \u001b[49m\u001b[38;5;124;43m'\u001b[39;49m\u001b[38;5;124;43mC\u001b[39;49m\u001b[38;5;124;43m'\u001b[39;49m\u001b[43m,\u001b[49m\u001b[43m \u001b[49m\u001b[38;5;124;43m'\u001b[39;49m\u001b[38;5;124;43mA\u001b[39;49m\u001b[38;5;124;43m'\u001b[39;49m\u001b[43m,\u001b[49m\u001b[43m \u001b[49m\u001b[43m{\u001b[49m\u001b[43m}\u001b[49m\u001b[43m)\u001b[49m)\n",
      "File \u001b[0;32m<class 'networkx.utils.decorators.argmap'> compilation 8:4\u001b[0m, in \u001b[0;36margmap_d_separated_5\u001b[0;34m(G, x, y, z)\u001b[0m\n\u001b[1;32m      2\u001b[0m \u001b[38;5;28;01mfrom\u001b[39;00m \u001b[38;5;21;01mos\u001b[39;00m\u001b[38;5;21;01m.\u001b[39;00m\u001b[38;5;21;01mpath\u001b[39;00m \u001b[38;5;28;01mimport\u001b[39;00m splitext\n\u001b[1;32m      3\u001b[0m \u001b[38;5;28;01mfrom\u001b[39;00m \u001b[38;5;21;01mcontextlib\u001b[39;00m \u001b[38;5;28;01mimport\u001b[39;00m contextmanager\n\u001b[0;32m----> 4\u001b[0m \u001b[38;5;28;01mfrom\u001b[39;00m \u001b[38;5;21;01mpathlib\u001b[39;00m \u001b[38;5;28;01mimport\u001b[39;00m Path\n\u001b[1;32m      6\u001b[0m \u001b[38;5;28;01mimport\u001b[39;00m \u001b[38;5;21;01mnetworkx\u001b[39;00m \u001b[38;5;28;01mas\u001b[39;00m \u001b[38;5;21;01mnx\u001b[39;00m\n\u001b[1;32m      7\u001b[0m \u001b[38;5;28;01mfrom\u001b[39;00m \u001b[38;5;21;01mnetworkx\u001b[39;00m\u001b[38;5;21;01m.\u001b[39;00m\u001b[38;5;21;01mutils\u001b[39;00m \u001b[38;5;28;01mimport\u001b[39;00m create_random_state, create_py_random_state\n",
      "File \u001b[0;32m~/miniforge3/envs/causal3.8m1/lib/python3.8/site-packages/networkx/algorithms/d_separation.py:106\u001b[0m, in \u001b[0;36md_separated\u001b[0;34m(G, x, y, z)\u001b[0m\n\u001b[1;32m     70\u001b[0m \u001b[38;5;124;03m\"\"\"\u001b[39;00m\n\u001b[1;32m     71\u001b[0m \u001b[38;5;124;03mReturn whether node sets ``x`` and ``y`` are d-separated by ``z``.\u001b[39;00m\n\u001b[1;32m     72\u001b[0m \n\u001b[0;32m   (...)\u001b[0m\n\u001b[1;32m    102\u001b[0m \n\u001b[1;32m    103\u001b[0m \u001b[38;5;124;03m\"\"\"\u001b[39;00m\n\u001b[1;32m    105\u001b[0m \u001b[38;5;28;01mif\u001b[39;00m \u001b[38;5;129;01mnot\u001b[39;00m nx\u001b[38;5;241m.\u001b[39mis_directed_acyclic_graph(G):\n\u001b[0;32m--> 106\u001b[0m     \u001b[38;5;28;01mraise\u001b[39;00m nx\u001b[38;5;241m.\u001b[39mNetworkXError(\u001b[38;5;124m\"\u001b[39m\u001b[38;5;124mgraph should be directed acyclic\u001b[39m\u001b[38;5;124m\"\u001b[39m)\n\u001b[1;32m    108\u001b[0m union_xyz \u001b[38;5;241m=\u001b[39m x\u001b[38;5;241m.\u001b[39munion(y)\u001b[38;5;241m.\u001b[39munion(z)\n\u001b[1;32m    110\u001b[0m \u001b[38;5;28;01mif\u001b[39;00m \u001b[38;5;28many\u001b[39m(n \u001b[38;5;129;01mnot\u001b[39;00m \u001b[38;5;129;01min\u001b[39;00m G\u001b[38;5;241m.\u001b[39mnodes \u001b[38;5;28;01mfor\u001b[39;00m n \u001b[38;5;129;01min\u001b[39;00m union_xyz):\n",
      "\u001b[0;31mNetworkXError\u001b[0m: graph should be directed acyclic"
     ]
    },
    {
     "data": {
      "image/png": "[encoded data removed]",
      "text/plain": [
       "<Figure size 432x288 with 1 Axes>"
      ]
     },
     "metadata": {},
     "output_type": "display_data"
    }
   ],
   "source": [
    "print(dag)\n",
    "G = dag\n",
    "pos = nx.random_layout(dag)\n",
    "node_sizes = [3 + 10 * i for i in range(len(G))]\n",
    "M = G.number_of_edges()\n",
    "edge_colors = range(2, M + 2)\n",
    "edge_alphas = [(5 + i) / (M + 4) for i in range(M)]\n",
    "cmap = plt.cm.viridis\n",
    "\n",
    "# nx.draw_networkx(dag, pos=pos)\n",
    "nodes = nx.draw_networkx_nodes(G, pos, node_size=node_sizes, node_color=\"indigo\")\n",
    "directed_edges = nx.draw_networkx_edges(\n",
    "    G,\n",
    "    pos,\n",
    "    edgelist=[('A', 'B', 'direct'), ('C', 'B', 'direct')],\n",
    "    node_size=node_sizes,\n",
    "    arrowstyle=\"->\",\n",
    "    arrowsize=10,\n",
    "    # edge_color=edge_colors,\n",
    "    edge_cmap=cmap,\n",
    "    width=2,\n",
    "    # connectionstyle=\"arc3,rad=0.1\"\n",
    ")\n",
    "bd_edges = nx.draw_networkx_edges(\n",
    "    G,\n",
    "    pos,\n",
    "    edgelist=[('A', 'B', 'bidirected')],\n",
    "    node_size=node_sizes,\n",
    "    style='dotted',\n",
    "    # arrowstyle=\"->\",\n",
    "    arrowsize=10,\n",
    "    # edge_color=edge_colors,\n",
    "    edge_cmap=cmap,\n",
    "    width=2,\n",
    "    connectionstyle=\"arc3,rad=0.4\"\n",
    ")\n",
    "\n",
    "bd_edges = nx.draw_networkx_edges(\n",
    "    G,\n",
    "    pos,\n",
    "    edgelist=[('B', 'A', 'bidirected')],\n",
    "    node_size=node_sizes,\n",
    "    style='dotted',\n",
    "    # arrowstyle=\"->\",\n",
    "    arrowsize=10,\n",
    "    # edge_color=edge_colors,\n",
    "    edge_cmap=cmap,\n",
    "    width=2,\n",
    "    connectionstyle=\"arc3,rad=-0.4\"\n",
    ")\n",
    "\n",
    "print(edges)\n",
    "# set alpha value for each edge\n",
    "# for i in range(M):\n",
    "    # edges[i].set_alpha(edge_alphas[i])\n",
    "\n",
    "print(nx.d_separated(G, 'C', 'A', {}))"
   ]
  },
  {
   "cell_type": "code",
   "execution_count": 1,
   "metadata": {},
   "outputs": [
    {
     "ename": "NameError",
     "evalue": "name 'CausalGraphicalModel' is not defined",
     "output_type": "error",
     "traceback": [
      "\u001b[0;31m---------------------------------------------------------------------------\u001b[0m",
      "\u001b[0;31mNameError\u001b[0m                                 Traceback (most recent call last)",
      "\u001b[1;32m/Users/adam2392/Documents/causalscm/examples/cgm.ipynb Cell 2'\u001b[0m in \u001b[0;36m<cell line: 4>\u001b[0;34m()\u001b[0m\n\u001b[1;32m      <a href='vscode-notebook-cell:/Users/adam2392/Documents/causalscm/examples/cgm.ipynb#ch0000001?line=0'>1</a>\u001b[0m nodes \u001b[39m=\u001b[39m [\n\u001b[1;32m      <a href='vscode-notebook-cell:/Users/adam2392/Documents/causalscm/examples/cgm.ipynb#ch0000001?line=1'>2</a>\u001b[0m     \u001b[39m'\u001b[39m\u001b[39ma\u001b[39m\u001b[39m'\u001b[39m, \u001b[39m'\u001b[39m\u001b[39mb\u001b[39m\u001b[39m'\u001b[39m, \u001b[39m'\u001b[39m\u001b[39mc\u001b[39m\u001b[39m'\u001b[39m, \u001b[39m'\u001b[39m\u001b[39md\u001b[39m\u001b[39m'\u001b[39m, \u001b[39m'\u001b[39m\u001b[39me\u001b[39m\u001b[39m'\u001b[39m\n\u001b[1;32m      <a href='vscode-notebook-cell:/Users/adam2392/Documents/causalscm/examples/cgm.ipynb#ch0000001?line=2'>3</a>\u001b[0m ]\n\u001b[0;32m----> <a href='vscode-notebook-cell:/Users/adam2392/Documents/causalscm/examples/cgm.ipynb#ch0000001?line=3'>4</a>\u001b[0m cgm \u001b[39m=\u001b[39m CausalGraphicalModel(ebunch\u001b[39m=\u001b[39mnodes)\n",
      "\u001b[0;31mNameError\u001b[0m: name 'CausalGraphicalModel' is not defined"
     ]
    }
   ],
   "source": [
    "nodes = [\n",
    "    'a', 'b', 'c', 'd', 'e'\n",
    "]\n",
    "cgm = CausalGraphicalModel(ebunch=nodes)"
   ]
  },
  {
   "cell_type": "code",
   "execution_count": null,
   "metadata": {},
   "outputs": [],
   "source": []
  },
  {
   "cell_type": "code",
   "execution_count": null,
   "metadata": {},
   "outputs": [],
   "source": []
  },
  {
   "cell_type": "code",
   "execution_count": null,
   "metadata": {},
   "outputs": [],
   "source": []
  }
 ],
 "metadata": {
  "interpreter": {
   "hash": "553a3a3baccf4e9d9e89b766458dc3beb76edeb53bd5cd6bfe933226e6c48e71"
  },
  "kernelspec": {
   "display_name": "causalm1",
   "language": "python",
   "name": "causalm1"
  },
  "language_info": {
   "codemirror_mode": {
    "name": "ipython",
    "version": 3
   },
   "file_extension": ".py",
   "mimetype": "text/x-python",
   "name": "python",
   "nbconvert_exporter": "python",
   "pygments_lexer": "ipython3",
   "version": "3.8.12"
  }
 },
 "nbformat": 4,
 "nbformat_minor": 4
}
