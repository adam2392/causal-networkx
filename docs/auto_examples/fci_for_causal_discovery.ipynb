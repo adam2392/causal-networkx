{
  "cells": [
    {
      "cell_type": "code",
      "execution_count": null,
      "metadata": {
        "collapsed": false
      },
      "outputs": [],
      "source": [
        "%matplotlib inline"
      ]
    },
    {
      "cell_type": "markdown",
      "metadata": {},
      "source": [
        "\n\n# Fast Causal Inference (FCI) for causal discovery from observational data\n\nWe will simulate some observational data and demonstrate how we\nwill use the FCI algorithm.\n"
      ]
    },
    {
      "cell_type": "code",
      "execution_count": null,
      "metadata": {
        "collapsed": false
      },
      "outputs": [],
      "source": [
        "# Authors: Adam Li <adam2392@gmail.com>\n#\n# License: BSD (3-clause)\n\nimport numpy as np\n\nfrom causal_networkx import StructuralCausalModel\nfrom causal_networkx.ci import Oracle, g_square_discrete\nfrom causal_networkx.discovery import FCI"
      ]
    },
    {
      "cell_type": "markdown",
      "metadata": {},
      "source": [
        "Simulate some data\n\n"
      ]
    },
    {
      "cell_type": "code",
      "execution_count": null,
      "metadata": {
        "collapsed": false
      },
      "outputs": [],
      "source": [
        "# set a random seed to make example reproducible\nseed = 12345\nrng = np.random.RandomState(seed=seed)\n\n# construct a causal graph that will result in\n# x -> y <- z\nfunc_uz = lambda: rng.binomial(n=1, p=0.25)\nfunc_uxy = lambda: rng.binomial(n=1, p=0.4)\nfunc_x = lambda u_xy: 2 * u_xy\nfunc_y = lambda x, u_xy, z: x * u_xy + z\nfunc_z = lambda u_z: u_z\n\n# construct the SCM and the corresponding causal graph\nscm = StructuralCausalModel(\n    exogenous={\n        \"u_xy\": func_uxy,\n        \"u_z\": func_uz,\n    },\n    endogenous={\"x\": func_x, \"y\": func_y, \"z\": func_z},\n)\nG = scm.get_causal_graph()\n\n# sample the incomplete observational data\ndata = scm.sample(n=5000, include_latents=False)\n\n# note the graph shows a collider and will not show\n# the unobserved confounder\nG.draw()"
      ]
    },
    {
      "cell_type": "markdown",
      "metadata": {},
      "source": [
        "Instantiate some conditional independence tests\n\n"
      ]
    },
    {
      "cell_type": "code",
      "execution_count": null,
      "metadata": {
        "collapsed": false
      },
      "outputs": [],
      "source": [
        "oracle = Oracle(G)\nci_estimator = g_square_discrete"
      ]
    },
    {
      "cell_type": "markdown",
      "metadata": {},
      "source": [
        "Now we are ready to run the FCI algorithm.\n\n"
      ]
    },
    {
      "cell_type": "code",
      "execution_count": null,
      "metadata": {
        "collapsed": false
      },
      "outputs": [],
      "source": [
        "fci = FCI(ci_estimator=ci_estimator)\nfci.fit(data)\n\n# the resulting partial ancestral graph (PAG) that is learned\ngraph = fci.graph_\ngraph.draw()"
      ]
    }
  ],
  "metadata": {
    "kernelspec": {
      "display_name": "Python 3",
      "language": "python",
      "name": "python3"
    },
    "language_info": {
      "codemirror_mode": {
        "name": "ipython",
        "version": 3
      },
      "file_extension": ".py",
      "mimetype": "text/x-python",
      "name": "python",
      "nbconvert_exporter": "python",
      "pygments_lexer": "ipython3",
      "version": "3.8.13"
    }
  },
  "nbformat": 4,
  "nbformat_minor": 0
}